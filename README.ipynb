{
 "cells": [
  {
   "cell_type": "markdown",
   "metadata": {},
   "source": [
    "[![Test](https://github.com/tmbdev/webdataset/workflows/Test/badge.svg)](https://github.com/tmbdev/webdataset/actions?query=workflow%3ATest)\n",
    "[![DeepSource](https://static.deepsource.io/deepsource-badge-light-mini.svg)](https://deepsource.io/gh/tmbdev/webdataset/?ref=repository-badge)\n",
    "\n",
    "# WebDataset\n",
    "\n",
    "WebDataset is a PyTorch Dataset (IterableDataset) implementation providing\n",
    "efficient access to datasets stored in POSIX tar archives.\n",
    "\n",
    "Storing data in POSIX tar archives greatly speeds up I/O operations on\n",
    "rotational storage and on networked file systems because it permits all\n",
    "I/O operations to operate as large sequential reads and writes.\n",
    "\n",
    "WebDataset fulfills a similar function to Tensorflow's TFRecord/tf.Example\n",
    "classes, but it is much easier to adopt because it does not actually\n",
    "require any kind of data conversion: data is stored in exactly the same\n",
    "format inside tar files as it is on disk, and all preprocessing and data\n",
    "augmentation code remains unchanged."
   ]
  },
  {
   "cell_type": "markdown",
   "metadata": {},
   "source": [
    "# Installation and Documentation\n",
    "\n",
    "```Bash\n",
    "    $ pip install webdataset\n",
    "```\n",
    "\n",
    "For the Github version:\n",
    "\n",
    "```Bash\n",
    "    $ pip install git+https://github.com/tmbdev/webdataset.git\n",
    "```"
   ]
  },
  {
   "cell_type": "markdown",
   "metadata": {},
   "source": [
    "Documentation: [ReadTheDocs](http://webdataset.readthedocs.io)"
   ]
  },
  {
   "cell_type": "markdown",
   "metadata": {},
   "source": [
    "# Using WebDataset\n",
    "\n",
    "WebDataset reads dataset that are stored as tar files, with the simple convention that files that belong together and make up a training sample share the same basename. WebDataset can read files from local disk or from any pipe, which allows it to access files using common cloud object stores."
   ]
  },
  {
   "cell_type": "code",
   "execution_count": 1,
   "metadata": {},
   "outputs": [
    {
     "name": "stdout",
     "output_type": "stream",
     "text": [
      "e39871fd9fd74f55.jpg\n",
      "e39871fd9fd74f55.json\n",
      "f18b91585c4d3f3e.jpg\n",
      "f18b91585c4d3f3e.json\n",
      "ede6e66b2fb59aab.jpg\n",
      "ede6e66b2fb59aab.json\n",
      "ed600d57fcee4f94.jpg\n",
      "ed600d57fcee4f94.json\n",
      "ff47e649b23f446d.jpg\n",
      "ff47e649b23f446d.json\n"
     ]
    }
   ],
   "source": [
    "%%bash\n",
    "curl -s http://storage.googleapis.com/nvdata-openimages/openimages-train-000000.tar | tar tf - | sed 10q"
   ]
  },
  {
   "cell_type": "code",
   "execution_count": 2,
   "metadata": {},
   "outputs": [
    {
     "name": "stdout",
     "output_type": "stream",
     "text": [
      "Populating the interactive namespace from numpy and matplotlib\n"
     ]
    }
   ],
   "source": [
    "%pylab inline\n",
    "\n",
    "import torch\n",
    "from torchvision import transforms\n",
    "import webdataset as wds\n",
    "from itertools import islice\n",
    "\n",
    "url = \"http://storage.googleapis.com/nvdata-openimages/openimages-train-000000.tar\"\n",
    "url = f\"pipe:curl -L -s {url} || true\""
   ]
  },
  {
   "cell_type": "markdown",
   "metadata": {},
   "source": [
    "WebDatasets are an implementation of PyTorch `IterableDataset` and fully compatible with PyTorch input pipelines. By default, WebDataset just iterates through the files in a tar file without decoding anything, returning related files in each sample."
   ]
  },
  {
   "cell_type": "code",
   "execution_count": 3,
   "metadata": {},
   "outputs": [
    {
     "name": "stdout",
     "output_type": "stream",
     "text": [
      "__key__ 'e39871fd9fd74f55'\n",
      "jpg b'\\xff\\xd8\\xff\\xe0\\x00\\x10JFIF\\x00\\x01\\x01\\x01\\x01\n",
      "json b'[{\"ImageID\": \"e39871fd9fd74f55\", \"Source\": \"xcli\n",
      "\n",
      "__key__ 'f18b91585c4d3f3e'\n",
      "jpg b'\\xff\\xd8\\xff\\xe0\\x00\\x10JFIF\\x00\\x01\\x01\\x00\\x00\n",
      "json b'[{\"ImageID\": \"f18b91585c4d3f3e\", \"Source\": \"acti\n",
      "\n",
      "__key__ 'ede6e66b2fb59aab'\n",
      "jpg b'\\xff\\xd8\\xff\\xe0\\x00\\x10JFIF\\x00\\x01\\x01\\x01\\x00\n",
      "json b'[{\"ImageID\": \"ede6e66b2fb59aab\", \"Source\": \"acti\n",
      "\n"
     ]
    }
   ],
   "source": [
    "dataset = wds.Dataset(url)\n",
    "\n",
    "for sample in islice(dataset, 0, 3):\n",
    "    for key, value in sample.items():\n",
    "        print(key, repr(value)[:50])\n",
    "    print()"
   ]
  },
  {
   "cell_type": "code",
   "execution_count": 4,
   "metadata": {},
   "outputs": [
    {
     "name": "stdout",
     "output_type": "stream",
     "text": [
      "(768, 1024, 3) float32 <class 'list'>\n",
      "(768, 1024, 3) float32 <class 'list'>\n",
      "(683, 1024, 3) float32 <class 'list'>\n"
     ]
    }
   ],
   "source": [
    "dataset = (\n",
    "    wds.Dataset(url)\n",
    "    .shuffle(100)\n",
    "    .decode()\n",
    "    .rename(image=\"jpg;png\", data=\"json\")\n",
    "    .to_tuple(\"image\", \"data\")\n",
    ")\n",
    "\n",
    "for image, data in islice(dataset, 0, 3):\n",
    "    print(image.shape, image.dtype, type(data))"
   ]
  },
  {
   "cell_type": "code",
   "execution_count": 5,
   "metadata": {},
   "outputs": [
    {
     "name": "stdout",
     "output_type": "stream",
     "text": [
      "(1024, 771, 3) float32 <class 'list'>\n",
      "(575, 1024, 3) float32 <class 'list'>\n",
      "(683, 1024, 3) float32 <class 'list'>\n"
     ]
    }
   ],
   "source": [
    "dataset = (\n",
    "    wds.Dataset(url)\n",
    "    .shuffle(100)\n",
    "    .decode()\n",
    "    .rename(image=\"jpg;png\", data=\"json\")\n",
    "    .to_tuple(\"image\", \"data\")\n",
    ")\n",
    "\n",
    "for image, data in islice(dataset, 0, 3):\n",
    "    print(image.shape, image.dtype, type(data))"
   ]
  },
  {
   "cell_type": "markdown",
   "metadata": {},
   "source": [
    "There are common processing stages you can add to a dataset to make it a drop-in replacement for any existing dataset. For convenience, common operations are available through a \"fluent\" interface (as chained method calls)."
   ]
  },
  {
   "cell_type": "code",
   "execution_count": 6,
   "metadata": {},
   "outputs": [
    {
     "name": "stdout",
     "output_type": "stream",
     "text": [
      "(699, 1024, 3) float32 <class 'list'>\n",
      "(683, 1024, 3) float32 <class 'list'>\n",
      "(768, 1024, 3) float32 <class 'list'>\n"
     ]
    }
   ],
   "source": [
    "dataset = (\n",
    "    wds.Dataset(url)\n",
    "    .shuffle(100)\n",
    "    .decode()\n",
    "    .rename(image=\"jpg;png\", data=\"json\")\n",
    "    .to_tuple(\"image\", \"data\")\n",
    ")\n",
    "\n",
    "for image, data in islice(dataset, 0, 3):\n",
    "    print(image.shape, image.dtype, type(data))"
   ]
  },
  {
   "cell_type": "markdown",
   "metadata": {},
   "source": [
    "Common operations:\n",
    "\n",
    "- `shuffle(n)`: shuffle the dataset with a buffer of size `n`; also shuffles shards (see below)\n",
    "- `decode([type])`: automatically decode files; the `type` determines desired outputs for images, video, and audio: `pil`, `rgb`, `rgb8`, `rgbtorch`, etc.\n",
    "- `rename(new=\"old1;old2\", ...)`: rename fields\n",
    "- `map(f)`: apply `f` to each sample\n",
    "- `map_dict(key=f, ...)`: apply `f` to its corresponding key\n",
    "- `map_tuple(f, g, ...)`: apply `f`, `g`, etc. to their corresponding values in the tuple\n",
    "- `pipe(f)`: `f` should be a function that takes an iterator and returns a new iterator\n",
    "\n",
    "Stages commonly take a `handler=` argument, which is a function that gets called when there is an exception; you can write whatever function you want, but common functions are:\n",
    "\n",
    "- `webdataset.ignore_and_stop`\n",
    "- `webdataset.ignore_and_continue`\n",
    "- `webdataset.warn_and_stop`\n",
    "- `webdataset.warn_and_continue`\n",
    "- `webdataset.reraise_exception`\n"
   ]
  },
  {
   "cell_type": "markdown",
   "metadata": {},
   "source": [
    "Here is an example that uses `torchvision` data augmentation the same way you might use it with a `FileDataset`."
   ]
  },
  {
   "cell_type": "code",
   "execution_count": 7,
   "metadata": {},
   "outputs": [
    {
     "name": "stdout",
     "output_type": "stream",
     "text": [
      "torch.Size([3, 224, 224]) torch.float32 <class 'list'>\n",
      "torch.Size([3, 224, 224]) torch.float32 <class 'list'>\n",
      "torch.Size([3, 224, 224]) torch.float32 <class 'list'>\n"
     ]
    }
   ],
   "source": [
    "normalize = transforms.Normalize(\n",
    "    mean=[0.485, 0.456, 0.406],\n",
    "    std=[0.229, 0.224, 0.225])\n",
    "\n",
    "preproc = transforms.Compose([\n",
    "    transforms.RandomResizedCrop(224),\n",
    "    transforms.RandomHorizontalFlip(),\n",
    "    transforms.ToTensor(),\n",
    "    normalize,\n",
    "])\n",
    "\n",
    "dataset = (\n",
    "    wds.Dataset(url)\n",
    "    .shuffle(100)\n",
    "    .decode(\"pil\")\n",
    "    .rename(image=\"jpg;png\", data=\"json\")\n",
    "    .map_dict(image=preproc)\n",
    "    .to_tuple(\"image\", \"data\")\n",
    ")\n",
    "\n",
    "for image, data in islice(dataset, 0, 3):\n",
    "    print(image.shape, image.dtype, type(data))"
   ]
  },
  {
   "cell_type": "markdown",
   "metadata": {},
   "source": [
    "# Sharding and Parallel I/O\n",
    "\n",
    "In order to be able to shuffle data better and to process and load data in parallel, it is a good idea to shard it; that is, to split up the dataset into several `.tar` files.\n",
    "\n",
    "WebDataset uses standard UNIX brace notation for sharded dataset. For example, the OpenImages dataset consists of 554 shards, each containing about 1 Gbyte of images. You can open the entire dataset as follows."
   ]
  },
  {
   "cell_type": "code",
   "execution_count": 8,
   "metadata": {},
   "outputs": [],
   "source": [
    "url = \"http://storage.googleapis.com/nvdata-openimages/openimages-train-{000000..000554}.tar\"\n",
    "url = f\"pipe:curl -L -s {url} || true\"\n",
    "dataset = (\n",
    "    wds.Dataset(url)\n",
    "    .shuffle(100)\n",
    "    .decode(\"pil\")\n",
    "    .rename(image=\"jpg;png\", data=\"json\")\n",
    "    .map_dict(image=preproc)\n",
    "    .to_tuple(\"image\", \"data\")\n",
    ")"
   ]
  },
  {
   "cell_type": "markdown",
   "metadata": {},
   "source": [
    "When used with a standard Torch `DataLoader`, this will now perform parallel I/O and preprocessing."
   ]
  },
  {
   "cell_type": "code",
   "execution_count": 9,
   "metadata": {},
   "outputs": [
    {
     "data": {
      "text/plain": [
       "torch.Size([16, 3, 224, 224])"
      ]
     },
     "execution_count": 9,
     "metadata": {},
     "output_type": "execute_result"
    }
   ],
   "source": [
    "dataloader = torch.utils.data.DataLoader(dataset, num_workers=4, batch_size=16)\n",
    "images, targets = next(iter(dataloader))\n",
    "images.shape"
   ]
  },
  {
   "cell_type": "markdown",
   "metadata": {},
   "source": [
    "# Data Sources\n",
    "\n",
    "When creating a dataset with `webdataset.Dataset(url)`, the URL can be:\n",
    "\n",
    "- the string \"-\", referring to stdin\n",
    "- a UNIX path, opened as a regular file\n",
    "- a URL-like string with the schema \"pipe:\"; such URLs are opened with `subprocess.Popen`. For example:\n",
    "    - `pipe:curl -s -L http://server/file` accesses a file via HTTP\n",
    "    - `pipe:gsutil cat gs://bucket/file` accesses a file on GCS\n",
    "    - `pipe:az cp --container bucket --name file --file /dev/stdout` accesses a file on Azure\n",
    "    - `pipe:ssh host cat file` accesses a file via `ssh`\n",
    "- any other URL-like string with another schema; such URLs are passed to the `objectio` libraries if it is installed\n",
    "\n",
    "It might seem at first glance to be \"more efficient\" to use built-in Python libraries for accessing object stores rather than subprocesses, but efficient object store access from Python really requires spawning a separate process anyway, so this approach to accessing object stores is not only convenient, it also is as efficient as we can make it in Python."
   ]
  },
  {
   "cell_type": "markdown",
   "metadata": {},
   "source": [
    "# Creating a WebDataset\n",
    "\n",
    "Since WebDatasets are just regular tar files, you can usually create them by just using the `tar` command. All you have to do is to arrange for any files that should be in the same sample to share the same basename. Many datasets already come that way. For those, you can simply create a WebDataset with\n",
    "\n",
    "```Bash\n",
    "$ tar --sort=name -cf dataset.tar dataset/\n",
    "```\n",
    "\n",
    "If your dataset has some other directory layout, you can either rearrange the files on disk, or you can use `tar --transform` to get the right kinds of names in your tar file."
   ]
  },
  {
   "cell_type": "markdown",
   "metadata": {},
   "source": [
    "You can also create a WebDataset with library functions in this library:\n",
    "\n",
    "- `webdataset.TarWriter` takes dictionaries containing key value pairs and writes them to disk\n",
    "- `webdataset.ShardWriter` takes dictionaries containing key value pairs and writes them to disk as a series of shards\n",
    "\n",
    "Here is how you can use `TarWriter` for writing a dataset:\n",
    "\n",
    "```Python\n",
    "sink = wds.TarWriter(\"dest.tar\", encoder=False)\n",
    "for basename in basenames:\n",
    "    with open(f\"{basename}.png\", \"rb\") as stream):\n",
    "        image = stream.read()\n",
    "    cls = lookup_cls(basename)\n",
    "    sample = {\n",
    "        \"__key__\": basename,\n",
    "        \"png\": image,\n",
    "        \"cls\": cls\n",
    "    }\n",
    "    sink.write(sample)\n",
    "sink.close()\n",
    "```"
   ]
  },
  {
   "cell_type": "markdown",
   "metadata": {},
   "source": [
    "# Writing Filters and Offline Augmentation\n",
    "\n",
    "Webdataset can be used for filters and offline augmentation of datasets. Here is a complete example that pre-augments a shard and extracts class labels."
   ]
  },
  {
   "cell_type": "code",
   "execution_count": 10,
   "metadata": {},
   "outputs": [],
   "source": [
    "def extract_class(data):\n",
    "    # mock implementation\n",
    "    return 0\n",
    "\n",
    "def augment_wds(input, output, maxcount=999999999):\n",
    "    src = (\n",
    "        wds.Dataset(input)\n",
    "        .decode(\"pil\")\n",
    "        .rename(key=\"__key__\", image=\"jpg;png\", data=\"json\")\n",
    "        .map_dict(image=preproc)\n",
    "        .to_tuple(\"key\", \"image\", \"data\")\n",
    "    )\n",
    "    with wds.TarWriter(output) as dst:\n",
    "        for key, image, data in islice(src, 0, maxcount):\n",
    "            print(key)\n",
    "            image = image.numpy().transpose(1, 2, 0)\n",
    "            image -= amin(image)\n",
    "            image /= amax(image)\n",
    "            sample = {\n",
    "                \"__key__\": key,\n",
    "                \"png\": image,\n",
    "                \"cls\": extract_class(data)\n",
    "            }\n",
    "            dst.write(sample)"
   ]
  },
  {
   "cell_type": "code",
   "execution_count": 11,
   "metadata": {},
   "outputs": [
    {
     "name": "stdout",
     "output_type": "stream",
     "text": [
      "e39871fd9fd74f55\n",
      "f18b91585c4d3f3e\n",
      "ede6e66b2fb59aab\n",
      "ed600d57fcee4f94\n",
      "ff47e649b23f446d\n"
     ]
    }
   ],
   "source": [
    "url = \"http://storage.googleapis.com/nvdata-openimages/openimages-train-000000.tar\"\n",
    "url = f\"pipe:curl -L -s {url} || true\"\n",
    "augment_wds(url, \"_temp.tar\", maxcount=5)"
   ]
  },
  {
   "cell_type": "code",
   "execution_count": 12,
   "metadata": {},
   "outputs": [
    {
     "name": "stdout",
     "output_type": "stream",
     "text": [
      "e39871fd9fd74f55.cls\n",
      "e39871fd9fd74f55.png\n",
      "f18b91585c4d3f3e.cls\n",
      "f18b91585c4d3f3e.png\n",
      "ede6e66b2fb59aab.cls\n",
      "ede6e66b2fb59aab.png\n",
      "ed600d57fcee4f94.cls\n",
      "ed600d57fcee4f94.png\n",
      "ff47e649b23f446d.cls\n",
      "ff47e649b23f446d.png\n"
     ]
    }
   ],
   "source": [
    "%%bash\n",
    "tar tf _temp.tar"
   ]
  },
  {
   "cell_type": "markdown",
   "metadata": {},
   "source": [
    "If you want to preprocess the entire OpenImages dataset with a process like this, you can use your favorite job queueing or worflow system.\n",
    "\n",
    "For example, using Dask, you could process all 554 shards in parallel using code like this:\n",
    "\n",
    "```Python\n",
    "shards = braceexpand.braceexpand(\"{000000..000554}\")\n",
    "inputs = [f\"gs://bucket/openimages-{shard}.tar\" for shard in shards]\n",
    "outputs = [f\"gs://bucket2/openimages-augmented-{shard}.tar\" for shard in shards]\n",
    "results = [dask.delayed(augment_wds)(args) for args in zip(inputs, outputs)]\n",
    "dask.compute(*results)\n",
    "```\n",
    "\n",
    "Note that the data is streaming from and to Google Cloud Storage buckets, so very little local storage is required on each worker.\n",
    "\n",
    "For very large scale processing, it's easiest to submit separate jobs to a Kubernetes cluster using the Kubernetes `Job` template, or using a workflow engine like Argo."
   ]
  },
  {
   "cell_type": "markdown",
   "metadata": {},
   "source": [
    "# Related Libraries and Software\n",
    "\n",
    "The [AIStore](http://github.com/NVIDIA/aistore) server provides an efficient backend for WebDataset; it functions like a combination of web server, content distribution network, P2P network, and distributed file system. Together, AIStore and WebDataset can serve input data from rotational drives distributed across many servers at the speed of local SSDs to many GPUs, at a fraction of the cost. We can easily achieve hundreds of MBytes/s of I/O per GPU even in large, distributed training jobs.\n",
    "\n",
    "The [tarproc](http://github.com/tmbdev/tarproc) utilities provide command line manipulation and processing of webdatasets and other tar files, including splitting, concatenation, and `xargs`-like functionality.\n",
    "\n",
    "The [tensorcom](http://github.com/tmbdev/tensorcom/) library provides fast three-tiered I/O; it can be inserted between [AIStore](http://github.com/NVIDIA/aistore) and [WebDataset](http://github.com/tmbdev/webdataset) to permit distributed data augmentation and I/O. It is particularly useful when data augmentation requires more CPU than the GPU server has available."
   ]
  }
 ],
 "metadata": {
  "kernelspec": {
   "display_name": "Python 3",
   "language": "python",
   "name": "python3"
  },
  "language_info": {
   "codemirror_mode": {
    "name": "ipython",
    "version": 3
   },
   "file_extension": ".py",
   "mimetype": "text/x-python",
   "name": "python",
   "nbconvert_exporter": "python",
   "pygments_lexer": "ipython3",
   "version": "3.7.5"
  }
 },
 "nbformat": 4,
 "nbformat_minor": 4
}
