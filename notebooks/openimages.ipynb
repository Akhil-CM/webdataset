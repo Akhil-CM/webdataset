{
 "cells": [
  {
   "cell_type": "code",
   "execution_count": 2,
   "id": "438ec182-0603-4113-9d07-2da9a3f71add",
   "metadata": {},
   "outputs": [],
   "source": [
    "import sys\n",
    "sys.path.insert(0, \"..\")"
   ]
  },
  {
   "cell_type": "code",
   "execution_count": 3,
   "id": "5c73178c-7530-43ce-a746-62751748ecd1",
   "metadata": {},
   "outputs": [
    {
     "name": "stderr",
     "output_type": "stream",
     "text": [
      "# downloading http://storage.googleapis.com/nvdata-openimages/openimages-train-000000.tar to ./_cache/nvdata-openimages/openimages-train-000000.tar\n"
     ]
    },
    {
     "name": "stdout",
     "output_type": "stream",
     "text": [
      "torch.Size([3, 32, 32])\n",
      "[{'ImageID': 'e39871fd9fd74f55', 'Source': 'xclick', 'LabelName': '/m/01g317', 'Confidence': '1', 'XMin': '0.389323', 'XMax': '0.661458', 'YMin': '0.094727', 'YMax': '0.571289', 'IsOccluded': '1', 'IsTruncated': '0', 'IsGroupOf': '0', 'IsDepiction': '1', 'IsInside': '0'}, {'ImageID': 'e39871fd9fd74f55', 'Source': 'xclick', 'LabelName': '/m/05y5lj', 'Confidence': '1', 'XMin': '0.402344', 'XMax': '0.427083', 'YMin': '0.468750', 'YMax': '0.485352', 'IsOccluded': '1', 'IsTruncated': '0', 'IsGroupOf': '0', 'IsDepiction': '1', 'IsInside': '0'}, {'ImageID': 'e39871fd9fd74f55', 'Source': 'xclick', 'LabelName': '/m/05y5lj', 'Confidence': '1', 'XMin': '0.516927', 'XMax': '0.597656', 'YMin': '0.093750', 'YMax': '0.153320', 'IsOccluded': '0', 'IsTruncated': '0', 'IsGroupOf': '0', 'IsDepiction': '1', 'IsInside': '0'}]\n"
     ]
    },
    {
     "name": "stderr",
     "output_type": "stream",
     "text": [
      "# opening ./_cache/nvdata-openimages/openimages-train-000000.tar\n"
     ]
    }
   ],
   "source": [
    "import webdataset as wds\n",
    "from torchvision import transforms\n",
    "from pprint import pprint\n",
    "\n",
    "bucket = \"pipe:curl -s -L http://storage.googleapis.com/nvdata-openimages/\"\n",
    "# shards_train = bucket + \"openimages-train-{000000..000554}.tar\"\n",
    "shards_train = bucket + \"openimages-train-{000000..000009}.tar\"\n",
    "\n",
    "train_transform = transforms.Compose(\n",
    "    [\n",
    "        transforms.RandomHorizontalFlip(),\n",
    "        transforms.RandomResizedCrop((32, 32), scale=(0.8, 1.0), ratio=(0.9, 1.1)),\n",
    "        transforms.ToTensor(),\n",
    "        # transforms.Normalize(DATA_MEANS, DATA_STD)\n",
    "    ]\n",
    ")\n",
    "\n",
    "train_ds = wds.DataPipeline(\n",
    "    wds.SimpleShardList(shards_train),\n",
    "    wds.detshuffle(100),\n",
    "    wds.cached_tarfile_to_samples(verbose=True),\n",
    "    wds.decode(\"pil\"),\n",
    "    wds.to_tuple(\"png;jpg json\"),\n",
    "    wds.map_tuple(train_transform, None),\n",
    ")\n",
    "\n",
    "image, info = next(iter(train_ds))\n",
    "print(image.shape)\n",
    "print(info)"
   ]
  },
  {
   "cell_type": "code",
   "execution_count": null,
   "id": "e0cf34ca-0ecb-4bd6-979a-f54dd9878c10",
   "metadata": {},
   "outputs": [],
   "source": []
  }
 ],
 "metadata": {
  "kernelspec": {
   "display_name": "Python 3 (ipykernel)",
   "language": "python",
   "name": "python3"
  },
  "language_info": {
   "codemirror_mode": {
    "name": "ipython",
    "version": 3
   },
   "file_extension": ".py",
   "mimetype": "text/x-python",
   "name": "python",
   "nbconvert_exporter": "python",
   "pygments_lexer": "ipython3",
   "version": "3.8.10"
  }
 },
 "nbformat": 4,
 "nbformat_minor": 5
}
