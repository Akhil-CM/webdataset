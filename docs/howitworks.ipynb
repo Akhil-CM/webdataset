{
 "cells": [
  {
   "cell_type": "code",
   "execution_count": 1,
   "metadata": {},
   "outputs": [
    {
     "name": "stdout",
     "output_type": "stream",
     "text": [
      "Populating the interactive namespace from numpy and matplotlib\n"
     ]
    }
   ],
   "source": [
    "%pylab inline\n",
    "\n",
    "import torch\n",
    "from torch.utils.data import IterableDataset\n",
    "from torchvision import transforms\n",
    "import webdataset as wds\n",
    "from itertools import islice"
   ]
  },
  {
   "cell_type": "markdown",
   "metadata": {},
   "source": [
    "# How it Works\n",
    "\n",
    "WebDataset is powerful and it may look complex from the outside, but its structure is quite simple: most of\n",
    "the code consists of functions mapping an input iterator to an output iterator:"
   ]
  },
  {
   "cell_type": "code",
   "execution_count": 2,
   "metadata": {},
   "outputs": [],
   "source": [
    "def add_noise(source, noise=0.01):\n",
    "    for inputs, targets in source:\n",
    "        inputs = inputs + noise * torch.randn_like(inputs)\n",
    "        yield inputs, targets"
   ]
  },
  {
   "cell_type": "markdown",
   "metadata": {},
   "source": [
    "To write new processing stages, a function like this is all you ever have to write. \n",
    "The rest is really bookkeeping: we need to be able\n",
    "to repeatedly invoke functions like this for every epoch, and we need to chain them together.\n",
    "\n",
    "To turn a function like that into an `IterableDataset`, and chain it with an existing dataset, you can use the `webdataset.Processor` class:\n",
    "\n",
    "```Python\n",
    "noisy_dataset = webdataset.Processor(add_noise, noise=0.02)(dataset)\n",
    "```\n",
    "\n",
    "The `webdataset.WebDataset` class is just a wrapper for `Processor` with a default initial processing pipeline and some convenience methods.  Full expanded, the above pipeline can be written as:"
   ]
  },
  {
   "cell_type": "code",
   "execution_count": 3,
   "metadata": {},
   "outputs": [],
   "source": [
    "url = \"http://storage.googleapis.com/nvdata-openimages/openimages-train-000000.tar\"\n",
    "url = f\"pipe:curl -L -s {url} || true\""
   ]
  },
  {
   "cell_type": "code",
   "execution_count": 4,
   "metadata": {},
   "outputs": [
    {
     "data": {
      "text/plain": [
       "torch.Size([3, 768, 1024])"
      ]
     },
     "execution_count": 4,
     "metadata": {},
     "output_type": "execute_result"
    }
   ],
   "source": [
    "dataset = wds.ShardList(url)\n",
    "dataset = wds.Processor(dataset, wds.url_opener)\n",
    "dataset = wds.Processor(dataset, wds.tar_file_expander)\n",
    "dataset = wds.Processor(dataset, wds.group_by_keys)\n",
    "dataset = wds.Processor(dataset, wds.shuffle, 100)\n",
    "dataset = wds.Processor(dataset, wds.decode, wds.imagehandler(\"torchrgb\"))\n",
    "dataset = wds.Processor(dataset, wds.to_tuple, \"png;jpg;jpeg\", \"json\")\n",
    "noisy_dataset = wds.Processor(dataset, add_noise, noise=0.02)\n",
    "\n",
    "next(iter(noisy_dataset))[0].shape"
   ]
  },
  {
   "cell_type": "markdown",
   "metadata": {},
   "source": [
    "You can mix the shorthands with explicit constructions of processors:"
   ]
  },
  {
   "cell_type": "code",
   "execution_count": 5,
   "metadata": {},
   "outputs": [
    {
     "data": {
      "text/plain": [
       "torch.Size([3, 768, 1024])"
      ]
     },
     "execution_count": 5,
     "metadata": {},
     "output_type": "execute_result"
    }
   ],
   "source": [
    "dataset = wds.WebDataset(url).shuffle(100).decode(\"torchrgb\").to_tuple(\"png;jpg;jpeg\", \"json\")\n",
    "noisy_dataset = wds.Processor(dataset, add_noise, noise=0.02)\n",
    "\n",
    "next(iter(noisy_dataset))[0].shape"
   ]
  },
  {
   "cell_type": "markdown",
   "metadata": {},
   "source": [
    "`wds.Processor` is just an `IterableDataset` instance; you can use it wherever you might use an `IterableDataset`. That means that all the functionality from the WebDataset library is available with other iterable sources."
   ]
  },
  {
   "cell_type": "markdown",
   "metadata": {},
   "source": [
    "Let's start by defining a simple SQL-based `IterableDataset`."
   ]
  },
  {
   "cell_type": "code",
   "execution_count": 6,
   "metadata": {},
   "outputs": [
    {
     "name": "stdout",
     "output_type": "stream",
     "text": [
      "1000 torch.Size([3, 32, 32])\n"
     ]
    }
   ],
   "source": [
    "import sqlite3\n",
    "import pickle\n",
    "import io\n",
    "import torch\n",
    "from torch.utils.data import IterableDataset\n",
    "\n",
    "class SqlDataset(IterableDataset):\n",
    "    def __init__(self, dbname):\n",
    "        self.db = sqlite3.connect(dbname)\n",
    "        self.db.execute(\"create table if not exists data (inputs blob, targets blob)\")\n",
    "\n",
    "    def add(self, inputs, targets):\n",
    "        self.db.execute(\"insert into data (inputs, targets) values (?, ?)\",\n",
    "                        (wds.torch_dumps(inputs), wds.torch_dumps(targets)))\n",
    "    def __iter__(self):\n",
    "        query = \"select inputs, targets from data\"\n",
    "        cursor = self.db.execute(query)\n",
    "        for inputs, targets in cursor:\n",
    "            yield wds.torch_loads(inputs), wds.torch_loads(targets)\n",
    "            \n",
    "    def __len__(self):\n",
    "        return self.db.execute(\"select count(*) from data\").fetchone()[0]\n",
    "        \n",
    "!rm -f test.db\n",
    "dataset = SqlDataset(\"test.db\")\n",
    "size=32\n",
    "for i in range(1000):\n",
    "    dataset.add(torch.randn(3, size, size), torch.randn(3, size, size))\n",
    "print(len(dataset), next(iter(dataset))[0].shape)"
   ]
  },
  {
   "cell_type": "markdown",
   "metadata": {},
   "source": [
    "Now we can chain this `IterableDataset` implementation with `webdataset.Processor`:"
   ]
  },
  {
   "cell_type": "code",
   "execution_count": 7,
   "metadata": {},
   "outputs": [
    {
     "name": "stdout",
     "output_type": "stream",
     "text": [
      "torch.Size([16, 3, 32, 32])\n"
     ]
    }
   ],
   "source": [
    "dataset = wds.Processor(dataset, wds.shuffle, 100)\n",
    "dataset = wds.Processor(dataset, wds.batched, 16)\n",
    "noisy_dataset = wds.Processor(dataset, add_noise, noise=0.02)\n",
    "print(next(iter(noisy_dataset))[0].shape)"
   ]
  },
  {
   "cell_type": "code",
   "execution_count": null,
   "metadata": {},
   "outputs": [],
   "source": []
  }
 ],
 "metadata": {
  "kernelspec": {
   "display_name": "Python 3",
   "language": "python",
   "name": "python3"
  },
  "language_info": {
   "codemirror_mode": {
    "name": "ipython",
    "version": 3
   },
   "file_extension": ".py",
   "mimetype": "text/x-python",
   "name": "python",
   "nbconvert_exporter": "python",
   "pygments_lexer": "ipython3",
   "version": "3.8.5"
  }
 },
 "nbformat": 4,
 "nbformat_minor": 4
}
