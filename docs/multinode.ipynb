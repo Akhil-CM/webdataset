{
 "cells": [
  {
   "cell_type": "code",
   "execution_count": 1,
   "metadata": {},
   "outputs": [
    {
     "name": "stdout",
     "output_type": "stream",
     "text": [
      "Populating the interactive namespace from numpy and matplotlib\n"
     ]
    }
   ],
   "source": [
    "%pylab inline\n",
    "\n",
    "import torch\n",
    "import webdataset as wds\n",
    "import braceexpand"
   ]
  },
  {
   "cell_type": "markdown",
   "metadata": {},
   "source": [
    "# Splitting Shards across Nodes and Workers\n",
    "\n",
    "Unlike traditional PyTorch `Dataset` instances, `WebDataset` splits data across nodes at the shard level, not at the sample level.\n",
    "\n",
    "This functionality is handled inside the `ShardList` class. Recall that `dataset = webdataset.Webdataset(urls)` is just a shorthand for:"
   ]
  },
  {
   "cell_type": "code",
   "execution_count": 2,
   "metadata": {},
   "outputs": [],
   "source": [
    "urls = list(braceexpand.braceexpand(\"dataset-{000000..000999}.tar\"))\n",
    "dataset = wds.ShardList(urls, splitter=wds.split_by_worker, nodesplitter=None, shuffle=False)\n",
    "dataset = wds.Processor(dataset, wds.url_opener)\n",
    "dataset = wds.Processor(dataset, wds.tar_file_expander)\n",
    "dataset = wds.Processor(dataset, wds.group_by_keys)"
   ]
  },
  {
   "cell_type": "markdown",
   "metadata": {},
   "source": [
    "Here, `nodesplitter` and `splitter` are functions that are called inside `ShardList` to split up the URLs in `urls` by node and worker. You can use any functions you like there, all they need to do is take a list of URLs and return a subset of those URLs as a result.\n",
    "\n",
    "The default `split_by_worker` looks roughly like:"
   ]
  },
  {
   "cell_type": "code",
   "execution_count": 3,
   "metadata": {},
   "outputs": [],
   "source": [
    "def my_split_by_worker(urls):\n",
    "    wi = torch.utils.data.get_worker_info()\n",
    "    if wi is None:\n",
    "        return urls\n",
    "    else:\n",
    "        return urls[wi.id::wi.num_workers]"
   ]
  },
  {
   "cell_type": "markdown",
   "metadata": {},
   "source": [
    "The same approach works for multiple worker nodes:"
   ]
  },
  {
   "cell_type": "code",
   "execution_count": 4,
   "metadata": {},
   "outputs": [],
   "source": [
    "def my_split_by_node(urls):\n",
    "    node_id, node_count = get_node_info()\n",
    "    return urls[node_id::node_count]"
   ]
  },
  {
   "cell_type": "code",
   "execution_count": 5,
   "metadata": {},
   "outputs": [],
   "source": [
    "dataset = wds.WebDataset(urls, splitter=my_split_by_worker, nodesplitter=my_split_by_node)"
   ]
  },
  {
   "cell_type": "markdown",
   "metadata": {},
   "source": [
    "Of course, you can also create more complex splitting strategies if necessary."
   ]
  }
 ],
 "metadata": {
  "kernelspec": {
   "display_name": "Python 3",
   "language": "python",
   "name": "python3"
  },
  "language_info": {
   "codemirror_mode": {
    "name": "ipython",
    "version": 3
   },
   "file_extension": ".py",
   "mimetype": "text/x-python",
   "name": "python",
   "nbconvert_exporter": "python",
   "pygments_lexer": "ipython3",
   "version": "3.8.5"
  }
 },
 "nbformat": 4,
 "nbformat_minor": 4
}
