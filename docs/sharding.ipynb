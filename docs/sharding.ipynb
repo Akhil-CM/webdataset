{
 "cells": [
  {
   "cell_type": "markdown",
   "metadata": {},
   "source": [
    "# Sharding, Parallel I/O, and `DataLoader`\n",
    "\n",
    "WebDataset datasets are usually split into many shards; this is both to achieve parallel I/O and to shuffle data."
   ]
  },
  {
   "cell_type": "code",
   "execution_count": 2,
   "metadata": {},
   "outputs": [
    {
     "name": "stdout",
     "output_type": "stream",
     "text": [
      "Populating the interactive namespace from numpy and matplotlib\n"
     ]
    }
   ],
   "source": [
    "%pylab inline\n",
    "\n",
    "import torch\n",
    "from torch.utils.data import IterableDataset\n",
    "from torchvision import transforms\n",
    "import webdataset as wds\n",
    "from itertools import islice"
   ]
  },
  {
   "cell_type": "markdown",
   "metadata": {},
   "source": [
    "Sets of shards can be given as a list of files, or they can be written using the brace notation, as in `openimages-train-{000000..000554}.tar`. For example, the OpenImages dataset consists of 554 shards, each containing about 1 Gbyte of images. You can open the entire dataset as follows (note the explicit use of both `shardshuffle=True` (for shuffling the shards and the `.shuffle` processor for shuffling samples inline).\n"
   ]
  },
  {
   "cell_type": "code",
   "execution_count": 4,
   "metadata": {},
   "outputs": [
    {
     "name": "stdout",
     "output_type": "stream",
     "text": [
      "torch.Size([3, 224, 224]) [{'ImageID': '19a7594f418fe39e', 'Source': 'xclick\n"
     ]
    }
   ],
   "source": [
    "url = \"http://storage.googleapis.com/nvdata-openimages/openimages-train-{000000..000554}.tar\"\n",
    "url = f\"pipe:curl -L -s {url} || true\"\n",
    "\n",
    "normalize = transforms.Normalize(\n",
    "    mean=[0.485, 0.456, 0.406],\n",
    "    std=[0.229, 0.224, 0.225])\n",
    "\n",
    "preproc = transforms.Compose([\n",
    "    transforms.RandomResizedCrop(224),\n",
    "    transforms.RandomHorizontalFlip(),\n",
    "    transforms.ToTensor(),\n",
    "    normalize,\n",
    "])\n",
    "\n",
    "dataset = (\n",
    "    wds.WebDataset(url, shardshuffle=True)\n",
    "    .shuffle(100)\n",
    "    .decode(\"pil\")\n",
    "    .to_tuple(\"jpg;png\", \"json\")\n",
    "    .map_tuple(preproc)\n",
    ")\n",
    "\n",
    "x, y = next(iter(dataset))\n",
    "print(x.shape, str(y)[:50])"
   ]
  },
  {
   "cell_type": "markdown",
   "metadata": {},
   "source": [
    "When used with a standard Torch `DataLoader`, this will would perform parallel I/O and preprocessing. However, the recommended way of using `IterableDataset` with `DataLoader` is to do the batching explicitly in the `Dataset`:"
   ]
  },
  {
   "cell_type": "code",
   "execution_count": 5,
   "metadata": {},
   "outputs": [
    {
     "data": {
      "text/plain": [
       "torch.Size([20, 3, 224, 224])"
      ]
     },
     "execution_count": 5,
     "metadata": {},
     "output_type": "execute_result"
    }
   ],
   "source": [
    "batch_size = 20\n",
    "dataloader = torch.utils.data.DataLoader(dataset.batched(batch_size), num_workers=4, batch_size=None)\n",
    "images, targets = next(iter(dataloader))\n",
    "images.shape"
   ]
  },
  {
   "cell_type": "markdown",
   "metadata": {},
   "source": [
    "# Explicit Dataset Sizes\n",
    "\n",
    "Ideally, you shouldn't use `len(dataset)` or `len(loader)` at all in your training loop. However, some code may use calls to the `len(.)` function. `WebDataset` generally propagates such calls back through the chain of dataset processors. Generally, `IterableDataset` implementations don't have a size, but you can specify an explicit size using the `length=` argument to `WebDataset`.\n",
    "\n",
    "You can also use the `ResizedDataset` class to force an `IterableDataset` to have a specific epoch length and (if desired) set a separate nominal epoch length."
   ]
  }
 ],
 "metadata": {
  "kernelspec": {
   "display_name": "Python 3",
   "language": "python",
   "name": "python3"
  },
  "language_info": {
   "codemirror_mode": {
    "name": "ipython",
    "version": 3
   },
   "file_extension": ".py",
   "mimetype": "text/x-python",
   "name": "python",
   "nbconvert_exporter": "python",
   "pygments_lexer": "ipython3",
   "version": "3.8.5"
  }
 },
 "nbformat": 4,
 "nbformat_minor": 4
}
