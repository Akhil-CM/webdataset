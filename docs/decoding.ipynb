{
 "cells": [
  {
   "cell_type": "code",
   "execution_count": 1,
   "metadata": {},
   "outputs": [
    {
     "name": "stdout",
     "output_type": "stream",
     "text": [
      "Populating the interactive namespace from numpy and matplotlib\n"
     ]
    }
   ],
   "source": [
    "%pylab inline\n",
    "\n",
    "import torch\n",
    "from torch.utils.data import IterableDataset\n",
    "from torchvision import transforms\n",
    "import webdataset as wds\n",
    "from itertools import islice"
   ]
  },
  {
   "cell_type": "markdown",
   "metadata": {},
   "source": [
    "# Data Decoding\n",
    "\n",
    "Data decoding is a special kind of transformations of samples. You could simply write a decoding function like this:\n",
    "\n",
    "```Python\n",
    "def my_sample_decoder(sample):\n",
    "    result = dict(__key__=sample[\"__key__\"])\n",
    "    for key, value in sample.items():\n",
    "        if key == \"png\" or key.endswith(\".png\"):\n",
    "            result[key] = mageio.imread(io.BytesIO(value))\n",
    "        elif ...:\n",
    "            ...\n",
    "    return result\n",
    "\n",
    "dataset = wds.Processor(dataset, wds.map, my_sample_decoder)\n",
    "```\n",
    "\n",
    "This gets tedious, though, and it also unnecessarily hardcodes the sample's keys into the processing pipeline. To help with this, there is a helper class that simplifies this kind of code. The primary use of `Decoder` is for decoding compressed image, video, and audio formats, as well as unzipping `.gz` files.\n",
    "\n",
    "Here is an example of automatically decoding `.png` images with `imread` and using the default `torch_video` and `torch_audio` decoders for video and audio:\n",
    "\n",
    "```Python\n",
    "def my_png_decoder(key, value):\n",
    "    if not key.endswith(\".png\"):\n",
    "        return None\n",
    "    assert isinstance(value, bytes)\n",
    "    return imageio.imread(io.BytesIO(value))\n",
    "\n",
    "dataset = wds.Decoder(my_png_decoder, wds.torch_video, wds.torch_audio)(dataset)\n",
    "```\n",
    "\n",
    "You can use whatever criteria you like for deciding how to decode values in samples. When used with standard `WebDataset` format files, the keys are the full extensions of the file names inside a `.tar` file. For consistency, it's recommended that you primarily rely on the extensions (e.g., `.png`, `.mp4`) to decide which decoders to use. There is a special helper function that simplifies this:\n",
    "\n",
    "```Python\n",
    "def my_decoder(value):\n",
    "    return imageio.imread(io.BytesIO(value))\n",
    "    \n",
    "dataset = wds.Decoder(wds.handle_extension(\".png\", my_decoder))(dataset)\n",
    "```"
   ]
  },
  {
   "cell_type": "markdown",
   "metadata": {},
   "source": [
    "If you want to \"decode everyting\" automatically and even override some extensions, you can use something like:"
   ]
  },
  {
   "cell_type": "code",
   "execution_count": 2,
   "metadata": {},
   "outputs": [],
   "source": [
    "url = \"http://storage.googleapis.com/nvdata-openimages/openimages-train-000000.tar\"\n",
    "url = f\"pipe:curl -L -s {url} || true\"\n",
    "\n",
    "def png_decoder_16bpp(key, data):\n",
    "    ...\n",
    "\n",
    "dataset = wds.WebDataset(url).decode(\n",
    "    wds.handle_extension(\"left.png\", png_decoder_16bpp),\n",
    "    wds.handle_extension(\"right.png\", png_decoder_16bpp),\n",
    "    wds.imagehandler(\"torchrgb\"),\n",
    "    wds.torch_audio,\n",
    "    wds.torch_video\n",
    ")"
   ]
  },
  {
   "cell_type": "markdown",
   "metadata": {},
   "source": [
    "This code would...\n",
    "\n",
    "- handle any file with a \".left.png\" or \".right.png\" extension using a special 16bpp PNG decoder function\n",
    "- decode all other image extensions to three channel Torch tensors\n",
    "- decode audio files using the `torchaudio` library\n",
    "- decode video files using the `torchvideo` library\n",
    "\n",
    "In order to decode images, audio, and video, it would dynamically load the `Pillow`, `torchaudio`, and `torchvideo` libraries."
   ]
  },
  {
   "cell_type": "markdown",
   "metadata": {},
   "source": [
    "# Automatic Decompression"
   ]
  },
  {
   "cell_type": "markdown",
   "metadata": {},
   "source": [
    "The default decoder handles compressed files automatically. That is `.json.gz` is decompressed first using the `gzip` library and then treated as if it had been called `.json`.\n",
    "\n",
    "In other words, you can store compressed files directly in a `WebDataset` and decompression is handled for you automatically.\n",
    "\n",
    "If you want to add your own decompressors, look at the implementation of `webdataset.autodecode.gzfilter`."
   ]
  }
 ],
 "metadata": {
  "kernelspec": {
   "display_name": "Python 3",
   "language": "python",
   "name": "python3"
  },
  "language_info": {
   "codemirror_mode": {
    "name": "ipython",
    "version": 3
   },
   "file_extension": ".py",
   "mimetype": "text/x-python",
   "name": "python",
   "nbconvert_exporter": "python",
   "pygments_lexer": "ipython3",
   "version": "3.8.5"
  }
 },
 "nbformat": 4,
 "nbformat_minor": 4
}
