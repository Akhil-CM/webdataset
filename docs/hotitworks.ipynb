{
 "cells": [
  {
   "cell_type": "markdown",
   "metadata": {},
   "source": [
    "# How it Works\n",
    "\n",
    "WebDataset is powerful and it may look complex from the outside, but its structure is quite simple: most of\n",
    "the code consists of functions mapping an input iterator to an output iterator:\n",
    "\n",
    "```Python\n",
    "def add_noise(source, noise=0.01):\n",
    "    for inputs, targets in source:\n",
    "        inputs = inputs + noise * torch.randn_like(inputs)\n",
    "        yield inputs, targets\n",
    "```\n",
    "\n",
    "To write new processing stages, a function like this is all you ever have to write. \n",
    "The rest is really bookkeeping: we need to be able\n",
    "to repeatedly invoke functions like this for every epoch, and we need to chain them together.\n",
    "\n",
    "To turn a function like that into an `IterableDataset`, and chain it with an existing dataset, you can use the `webdataset.Processor` class:\n",
    "\n",
    "```Python\n",
    "noisy_dataset = webdataset.Processor(add_noise, noise=0.02)(dataset)\n",
    "```\n",
    "\n",
    "The `webdataset.WebDataset` class is just a wrapper for `Processor` with a default initial processing pipeline and some convenience methods.  Full expanded, the above pipeline can be written as:"
   ]
  },
  {
   "cell_type": "markdown",
   "metadata": {},
   "source": [
    "```Python\n",
    "dataset = wds.ShardList(url)\n",
    "dataset = wds.Processor(wds.url_opener)(dataset)\n",
    "dataset = wds.Processor(wds.tar_file_expander)(dataset)\n",
    "dataset = wds.Processor(wds.group_by_keys)(dataset)\n",
    "dataset = wds.Processor(wds.shuffle, 100)(dataset)\n",
    "dataset = wds.Processor(wds.decode, \"torchrgb\")(dataset)\n",
    "noisy_dataset = wds.Processor(wds.augment_sample, noise=0.02)(dataset)\n",
    "```"
   ]
  },
  {
   "cell_type": "markdown",
   "metadata": {},
   "source": [
    "`wds.Processor` is just an `IterableDataset` instance; you can use it wherever you might use an `IterableDataset` and mix the two styles freely.\n",
    "\n",
    "For example, you can reuse WebDataset processors with existing `IterableDataset` implementations, for example if you want shuffling, caching, or batching with them. Let's say you have a class `MySqlIterableDataset` that iterates over samples from an SQL database and you want to shuffle and batch the results. You can write:\n",
    "\n",
    "```Python\n",
    "dataset = MySqlIterableDataset(database_connection)\n",
    "dataset = wds.Processor(wds.shuffle, 100)(dataset)\n",
    "dataset = wds.Processor(wds.batch, 16)(dataset)\n",
    "noisy_dataset = wds.Processor(wds.augment_sample, noise=0.02)(dataset)\n",
    "```"
   ]
  }
 ],
 "metadata": {
  "kernelspec": {
   "display_name": "Python 3",
   "language": "python",
   "name": "python3"
  },
  "language_info": {
   "codemirror_mode": {
    "name": "ipython",
    "version": 3
   },
   "file_extension": ".py",
   "mimetype": "text/x-python",
   "name": "python",
   "nbconvert_exporter": "python",
   "pygments_lexer": "ipython3",
   "version": "3.8.5"
  }
 },
 "nbformat": 4,
 "nbformat_minor": 4
}
