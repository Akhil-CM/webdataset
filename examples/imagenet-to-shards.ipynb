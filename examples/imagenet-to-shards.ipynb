{
 "cells": [
  {
   "cell_type": "markdown",
   "metadata": {},
   "source": [
    "Convert ImageNet Directory to WebDataset Tar Files\n",
    "==================================================\n",
    "\n",
    "This converts the original ImageNet dataset to sharded tar files. The conversion makes it easy to use ImageNet data with the WebDataset input pipelines. It also associates image data directly with ground truth, making it generally easier to process and transform this data."
   ]
  },
  {
   "cell_type": "markdown",
   "metadata": {},
   "source": [
    "Most of the code in this conversion is really concerned with loading metadata from the Matlab metadata files; the actual writing of the sharded tar files is simple.\n",
    "\n",
    "If you're happy manipulating the Matlab files directly, you can also simply create a tar file of the Imagenet .JPEG files (with a command like `find train -name '*.JPEG' -print | tar -ctf - -T - > imagenet-images.tar`)."
   ]
  },
  {
   "cell_type": "code",
   "execution_count": 2,
   "metadata": {},
   "outputs": [
    {
     "name": "stdout",
     "output_type": "stream",
     "text": [
      "/mdata/imagenet-raw\n"
     ]
    }
   ],
   "source": [
    "%cd /mdata/imagenet-raw"
   ]
  },
  {
   "cell_type": "code",
   "execution_count": 4,
   "metadata": {},
   "outputs": [],
   "source": [
    "import os, sys, glob, os.path, sqlite3\n",
    "import random as pyr\n",
    "import re\n",
    "import PIL.Image\n",
    "import numpy as np\n",
    "import io\n",
    "import xmltodict\n",
    "import warnings\n",
    "import simplejson\n",
    "import itertools as itt\n",
    "import random\n",
    "\n",
    "def readfile(path, mode=\"rb\"):\n",
    "    with open(path, mode) as stream:\n",
    "        return stream.read()\n",
    "def writefile(path, data):\n",
    "    mode = \"w\" if isinstance(data, str) else \"wb\"\n",
    "    with open(path, mode) as stream:\n",
    "        stream.write(data)\n",
    "def pilreads(data):\n",
    "    stream = io.BytesIO(data)\n",
    "    return np.array(PIL.Image.open(stream))"
   ]
  },
  {
   "cell_type": "code",
   "execution_count": 5,
   "metadata": {},
   "outputs": [
    {
     "name": "stdout",
     "output_type": "stream",
     "text": [
      "1281167 544546\n"
     ]
    }
   ],
   "source": [
    "jpegs = sorted(glob.glob(\"train/*/*.JPEG\"))\n",
    "print(len(jpegs), len(glob.glob(\"train/*/*.xml\")))"
   ]
  },
  {
   "cell_type": "code",
   "execution_count": 7,
   "metadata": {},
   "outputs": [
    {
     "name": "stdout",
     "output_type": "stream",
     "text": [
      "[('n02119789', 1), ('n02100735', 2), ('n02110185', 3), ('n02096294', 4), ('n02102040', 5)]\n",
      "[('n02119789', 'kit fox, Vulpes macrotis'), ('n02100735', 'English setter'), ('n02110185', 'Siberian husky'), ('n02096294', 'Australian terrier'), ('n02102040', 'English springer, English springer spaniel')]\n"
     ]
    }
   ],
   "source": [
    "import scipy.io\n",
    "meta = scipy.io.loadmat(\"ILSVRC2012_devkit_t12/data/meta.mat\")\n",
    "meta = meta[\"synsets\"]\n",
    "def scalar(x):\n",
    "    for i in range(10):\n",
    "        if isinstance(x, str): break\n",
    "        try: x = x[0]\n",
    "        except: break\n",
    "    return x\n",
    "wnid2id = {scalar(l[0][1]): int(scalar(l[0][0])) for l in meta}\n",
    "wnid2cname = {scalar(l[0][1]): str(scalar(l[0][2])) for l in meta}\n",
    "print(list(wnid2id.items())[:5])\n",
    "print(list(wnid2cname.items())[:5])"
   ]
  },
  {
   "cell_type": "code",
   "execution_count": 8,
   "metadata": {},
   "outputs": [
    {
     "name": "stdout",
     "output_type": "stream",
     "text": [
      "train/n01440764/n01440764_10040.JPEG\n"
     ]
    },
    {
     "data": {
      "text/plain": [
       "('n01440764', 10040)"
      ]
     },
     "execution_count": 8,
     "metadata": {},
     "output_type": "execute_result"
    }
   ],
   "source": [
    "mode = \"train\"\n",
    "def pathinfo(path):\n",
    "    global mode\n",
    "    if mode==\"val\":\n",
    "        match = re.search(r\"^[a-z]*/([^/]+)/ILSVRC2012_val_(\\d+)\\.JPEG\", path)\n",
    "    elif mode==\"train\":\n",
    "        match = re.search(r\"^[a-z]*/([^/]+)/\\1_(\\d+)\\.JPEG\", path)\n",
    "    return match.group(1), int(match.group(2))\n",
    "print(jpegs[3])\n",
    "pathinfo(jpegs[3])"
   ]
  },
  {
   "cell_type": "code",
   "execution_count": 9,
   "metadata": {},
   "outputs": [
    {
     "data": {
      "text/plain": [
       "'n01440764_10040'"
      ]
     },
     "execution_count": 9,
     "metadata": {},
     "output_type": "execute_result"
    }
   ],
   "source": [
    "def pathkey(path):\n",
    "    return re.sub('.JPEG$', '', re.sub('.*/', '', path))\n",
    "\n",
    "pathkey(jpegs[3])"
   ]
  },
  {
   "cell_type": "code",
   "execution_count": 10,
   "metadata": {},
   "outputs": [
    {
     "data": {
      "text/plain": [
       "449"
      ]
     },
     "execution_count": 10,
     "metadata": {},
     "output_type": "execute_result"
    }
   ],
   "source": [
    "def pathcls(path):\n",
    "    return wnid2id[pathinfo(path)[0]]\n",
    "\n",
    "pathcls(jpegs[3])"
   ]
  },
  {
   "cell_type": "code",
   "execution_count": 11,
   "metadata": {},
   "outputs": [
    {
     "name": "stdout",
     "output_type": "stream",
     "text": [
      "{\n",
      "    \"cls\": 449,\n",
      "    \"cname\": \"tench, Tinca tinca\"\n",
      "}\n"
     ]
    }
   ],
   "source": [
    "def jpeginfo(path):\n",
    "    xmlpath = re.sub(\".JPEG$\", \".xml\", path)\n",
    "    if not os.path.exists(xmlpath):\n",
    "        info = {}\n",
    "    else:\n",
    "        xml = readfile(xmlpath, \"r\")\n",
    "        info = xmltodict.parse(xml)\n",
    "    folder = pathinfo(path)[0]\n",
    "    info[\"cls\"] = wnid2id[folder]\n",
    "    info[\"cname\"] = wnid2cname[folder]\n",
    "    return info\n",
    "\n",
    "infos = [jpeginfo(jpegs[i]) for i in range(100)]\n",
    "infos = list(filter(lambda a: a is not None, infos))\n",
    "print(simplejson.dumps(infos[0], indent=4))"
   ]
  },
  {
   "cell_type": "code",
   "execution_count": 12,
   "metadata": {},
   "outputs": [],
   "source": [
    "try: del writer\n",
    "except: pass\n",
    "!rm -rf ../imagenet-shards\n",
    "!mkdir ../imagenet-shards"
   ]
  },
  {
   "cell_type": "code",
   "execution_count": 19,
   "metadata": {},
   "outputs": [],
   "source": [
    "from webdataset import writer\n",
    "from importlib import reload\n",
    "reload(writer)\n",
    "\n",
    "def write_shards(dest, jpegs, maxsize=1e9):\n",
    "    jpegs = jpegs.copy()\n",
    "    random.shuffle(jpegs)\n",
    "    sink = writer.ShardWriter(dest, maxsize=maxsize, encoder=False)\n",
    "    for i, fname in enumerate(jpegs):\n",
    "        key = pathkey(fname)\n",
    "        jpeg = readfile(fname)\n",
    "        info = jpeginfo(fname)\n",
    "        cls = pathcls(fname)    \n",
    "        if info is None: info = dict(cls=cls)\n",
    "        assert cls == info[\"cls\"]\n",
    "        json = simplejson.dumps(info)\n",
    "        if i%1000==0: print(i, key, len(jpeg), json[:50])\n",
    "        sample = dict(__key__=key,\n",
    "                      jpg=jpeg,\n",
    "                      json=json.encode(\"utf-8\"),\n",
    "                      cls=str(cls).encode(\"utf-8\"))\n",
    "        sink.write(sample)\n",
    "    sink.close()"
   ]
  },
  {
   "cell_type": "code",
   "execution_count": 20,
   "metadata": {},
   "outputs": [
    {
     "name": "stdout",
     "output_type": "stream",
     "text": [
      "# writing ../imagenet-shards/imagenet_train-0000.tgz 0 0.0 GB 0\n",
      "0 n02096437_3246 16426 {\"cls\": 27, \"cname\": \"Dandie Dinmont, Dandie Dinmo\n",
      "1000 n03594734_25561 152316 {\"cls\": 748, \"cname\": \"jean, blue jean, denim\"}\n",
      "2000 n02281406_8284 102584 {\"annotation\": {\"folder\": \"n02281406\", \"filename\":\n",
      "3000 n03814906_45698 135129 {\"annotation\": {\"folder\": \"n03814906\", \"filename\":\n",
      "4000 n01641577_3923 128818 {\"annotation\": {\"folder\": \"n01641577\", \"filename\":\n",
      "5000 n07684084_542 27894 {\"annotation\": {\"folder\": \"n07684084\", \"filename\":\n",
      "6000 n04235860_2054 22025 {\"cls\": 943, \"cname\": \"sleeping bag\"}\n",
      "7000 n03825788_16277 12638 {\"cls\": 915, \"cname\": \"nipple\"}\n",
      "8000 n03935335_8263 23508 {\"cls\": 931, \"cname\": \"piggy bank, penny bank\"}\n",
      "# writing ../imagenet-shards/imagenet_train-0001.tgz 8838 1.0 GB 8838\n",
      "9000 n02823428_4503 160711 {\"cls\": 777, \"cname\": \"beer bottle\"}\n",
      "10000 n02033041_7018 94882 {\"cls\": 436, \"cname\": \"dowitcher\"}\n",
      "11000 n03527444_15413 75635 {\"annotation\": {\"folder\": \"n03527444\", \"filename\":\n",
      "12000 n04149813_16055 68499 {\"cls\": 729, \"cname\": \"scoreboard\"}\n",
      "13000 n03443371_2486 64599 {\"cls\": 955, \"cname\": \"goblet\"}\n",
      "14000 n02667093_6484 123552 {\"annotation\": {\"folder\": \"n02667093\", \"filename\":\n",
      "15000 n02105251_14687 84849 {\"cls\": 208, \"cname\": \"briard\"}\n",
      "16000 n04442312_14716 142490 {\"cls\": 664, \"cname\": \"toaster\"}\n",
      "17000 n07873807_14425 125401 {\"annotation\": {\"folder\": \"n07873807\", \"filename\":\n",
      "# writing ../imagenet-shards/imagenet_train-0002.tgz 8675 1.0 GB 17513\n",
      "18000 n02808304_4468 144082 {\"annotation\": {\"folder\": \"n02808304\", \"filename\":\n",
      "19000 n01985128_38395 125895 {\"cls\": 619, \"cname\": \"crayfish, crawfish, crawdad\n",
      "20000 n02788148_73560 124766 {\"cls\": 718, \"cname\": \"bannister, banister, balust\n",
      "21000 n01983481_25569 228048 {\"annotation\": {\"folder\": \"n01983481\", \"filename\":\n",
      "22000 n02747177_7142 62206 {\"annotation\": {\"folder\": \"n02747177\", \"filename\":\n",
      "23000 n02089078_3893 32443 {\"annotation\": {\"folder\": \"02089078\", \"filename\": \n",
      "24000 n02013706_4145 153864 {\"annotation\": {\"folder\": \"n02013706\", \"filename\":\n",
      "25000 n04065272_33473 103794 {\"annotation\": {\"folder\": \"n04065272\", \"filename\":\n",
      "26000 n02840245_14356 7788 {\"cls\": 835, \"cname\": \"binder, ring-binder\"}\n",
      "# writing ../imagenet-shards/imagenet_train-0003.tgz 8826 1.0 GB 26339\n",
      "27000 n13052670_11782 116157 {\"cls\": 812, \"cname\": \"hen-of-the-woods, hen of th\n",
      "28000 n03929855_6220 213552 {\"annotation\": {\"folder\": \"n03929855\", \"filename\":\n",
      "29000 n02086646_303 34281 {\"annotation\": {\"folder\": \"02086646\", \"filename\": \n",
      "30000 n02807133_14520 94484 {\"cls\": 785, \"cname\": \"bathing cap, swimming cap\"}\n",
      "31000 n02492035_7643 114179 {\"annotation\": {\"folder\": \"n02492035\", \"filename\":\n",
      "32000 n07734744_6058 183445 {\"cls\": 746, \"cname\": \"mushroom\"}\n",
      "33000 n04067472_7783 179299 {\"cls\": 570, \"cname\": \"reel\"}\n",
      "34000 n03291819_1631 206994 {\"annotation\": {\"folder\": \"n03291819\", \"filename\":\n",
      "35000 n02130308_7990 224276 {\"cls\": 206, \"cname\": \"cheetah, chetah, Acinonyx j\n",
      "# writing ../imagenet-shards/imagenet_train-0004.tgz 8676 1.0 GB 35015\n",
      "36000 n04461696_9385 110348 {\"annotation\": {\"folder\": \"n04461696\", \"filename\":\n"
     ]
    },
    {
     "ename": "KeyboardInterrupt",
     "evalue": "",
     "output_type": "error",
     "traceback": [
      "\u001b[0;31m---------------------------------------------------------------------------\u001b[0m",
      "\u001b[0;31mKeyboardInterrupt\u001b[0m                         Traceback (most recent call last)",
      "\u001b[0;32m<ipython-input-20-2c43127bf51c>\u001b[0m in \u001b[0;36m<module>\u001b[0;34m\u001b[0m\n\u001b[0;32m----> 1\u001b[0;31m \u001b[0mwrite_shards\u001b[0m\u001b[0;34m(\u001b[0m\u001b[0;34m\"../imagenet-shards/imagenet_train-%04d.tgz\"\u001b[0m\u001b[0;34m,\u001b[0m \u001b[0mjpegs\u001b[0m\u001b[0;34m)\u001b[0m\u001b[0;34m\u001b[0m\u001b[0;34m\u001b[0m\u001b[0m\n\u001b[0m",
      "\u001b[0;32m<ipython-input-19-3c2597e85e0c>\u001b[0m in \u001b[0;36mwrite_shards\u001b[0;34m(dest, jpegs, maxsize)\u001b[0m\n\u001b[1;32m      9\u001b[0m     \u001b[0;32mfor\u001b[0m \u001b[0mi\u001b[0m\u001b[0;34m,\u001b[0m \u001b[0mfname\u001b[0m \u001b[0;32min\u001b[0m \u001b[0menumerate\u001b[0m\u001b[0;34m(\u001b[0m\u001b[0mjpegs\u001b[0m\u001b[0;34m)\u001b[0m\u001b[0;34m:\u001b[0m\u001b[0;34m\u001b[0m\u001b[0;34m\u001b[0m\u001b[0m\n\u001b[1;32m     10\u001b[0m         \u001b[0mkey\u001b[0m \u001b[0;34m=\u001b[0m \u001b[0mpathkey\u001b[0m\u001b[0;34m(\u001b[0m\u001b[0mfname\u001b[0m\u001b[0;34m)\u001b[0m\u001b[0;34m\u001b[0m\u001b[0;34m\u001b[0m\u001b[0m\n\u001b[0;32m---> 11\u001b[0;31m         \u001b[0mjpeg\u001b[0m \u001b[0;34m=\u001b[0m \u001b[0mreadfile\u001b[0m\u001b[0;34m(\u001b[0m\u001b[0mfname\u001b[0m\u001b[0;34m)\u001b[0m\u001b[0;34m\u001b[0m\u001b[0;34m\u001b[0m\u001b[0m\n\u001b[0m\u001b[1;32m     12\u001b[0m         \u001b[0minfo\u001b[0m \u001b[0;34m=\u001b[0m \u001b[0mjpeginfo\u001b[0m\u001b[0;34m(\u001b[0m\u001b[0mfname\u001b[0m\u001b[0;34m)\u001b[0m\u001b[0;34m\u001b[0m\u001b[0;34m\u001b[0m\u001b[0m\n\u001b[1;32m     13\u001b[0m         \u001b[0mcls\u001b[0m \u001b[0;34m=\u001b[0m \u001b[0mpathcls\u001b[0m\u001b[0;34m(\u001b[0m\u001b[0mfname\u001b[0m\u001b[0;34m)\u001b[0m\u001b[0;34m\u001b[0m\u001b[0;34m\u001b[0m\u001b[0m\n",
      "\u001b[0;32m<ipython-input-4-986fc8e9fe82>\u001b[0m in \u001b[0;36mreadfile\u001b[0;34m(path, mode)\u001b[0m\n\u001b[1;32m     13\u001b[0m \u001b[0;32mdef\u001b[0m \u001b[0mreadfile\u001b[0m\u001b[0;34m(\u001b[0m\u001b[0mpath\u001b[0m\u001b[0;34m,\u001b[0m \u001b[0mmode\u001b[0m\u001b[0;34m=\u001b[0m\u001b[0;34m\"rb\"\u001b[0m\u001b[0;34m)\u001b[0m\u001b[0;34m:\u001b[0m\u001b[0;34m\u001b[0m\u001b[0;34m\u001b[0m\u001b[0m\n\u001b[1;32m     14\u001b[0m     \u001b[0;32mwith\u001b[0m \u001b[0mopen\u001b[0m\u001b[0;34m(\u001b[0m\u001b[0mpath\u001b[0m\u001b[0;34m,\u001b[0m \u001b[0mmode\u001b[0m\u001b[0;34m)\u001b[0m \u001b[0;32mas\u001b[0m \u001b[0mstream\u001b[0m\u001b[0;34m:\u001b[0m\u001b[0;34m\u001b[0m\u001b[0;34m\u001b[0m\u001b[0m\n\u001b[0;32m---> 15\u001b[0;31m         \u001b[0;32mreturn\u001b[0m \u001b[0mstream\u001b[0m\u001b[0;34m.\u001b[0m\u001b[0mread\u001b[0m\u001b[0;34m(\u001b[0m\u001b[0;34m)\u001b[0m\u001b[0;34m\u001b[0m\u001b[0;34m\u001b[0m\u001b[0m\n\u001b[0m\u001b[1;32m     16\u001b[0m \u001b[0;32mdef\u001b[0m \u001b[0mwritefile\u001b[0m\u001b[0;34m(\u001b[0m\u001b[0mpath\u001b[0m\u001b[0;34m,\u001b[0m \u001b[0mdata\u001b[0m\u001b[0;34m)\u001b[0m\u001b[0;34m:\u001b[0m\u001b[0;34m\u001b[0m\u001b[0;34m\u001b[0m\u001b[0m\n\u001b[1;32m     17\u001b[0m     \u001b[0mmode\u001b[0m \u001b[0;34m=\u001b[0m \u001b[0;34m\"w\"\u001b[0m \u001b[0;32mif\u001b[0m \u001b[0misinstance\u001b[0m\u001b[0;34m(\u001b[0m\u001b[0mdata\u001b[0m\u001b[0;34m,\u001b[0m \u001b[0mstr\u001b[0m\u001b[0;34m)\u001b[0m \u001b[0;32melse\u001b[0m \u001b[0;34m\"wb\"\u001b[0m\u001b[0;34m\u001b[0m\u001b[0;34m\u001b[0m\u001b[0m\n",
      "\u001b[0;31mKeyboardInterrupt\u001b[0m: "
     ]
    }
   ],
   "source": [
    "write_shards(\"../imagenet-shards/imagenet_train-%04d.tgz\", jpegs)"
   ]
  },
  {
   "cell_type": "code",
   "execution_count": 147,
   "metadata": {},
   "outputs": [
    {
     "name": "stdout",
     "output_type": "stream",
     "text": [
      "50000 0\n"
     ]
    }
   ],
   "source": [
    "jpegs = sorted(glob.glob(\"val/*/*.JPEG\"))\n",
    "print(len(jpegs), len(glob.glob(\"val/*/*.xml\")))"
   ]
  },
  {
   "cell_type": "code",
   "execution_count": 157,
   "metadata": {},
   "outputs": [
    {
     "name": "stdout",
     "output_type": "stream",
     "text": [
      "# writing ../imagenet-shards/imagenet_val-0000.tgz 0 0.0 GB 0\n",
      "0 ILSVRC2012_val_00004977 143281 {\"cls\": 154, \"cname\": \"Gordon setter\"}\n",
      "1000 ILSVRC2012_val_00025298 140138 {\"cls\": 526, \"cname\": \"sundial\"}\n",
      "2000 ILSVRC2012_val_00009785 156178 {\"cls\": 326, \"cname\": \"pomegranate\"}\n",
      "3000 ILSVRC2012_val_00024349 180064 {\"cls\": 65, \"cname\": \"hartebeest\"}\n",
      "4000 ILSVRC2012_val_00014632 44827 {\"cls\": 551, \"cname\": \"hand-held computer, hand-he\n",
      "5000 ILSVRC2012_val_00024408 159608 {\"cls\": 883, \"cname\": \"perfume, essence\"}\n",
      "6000 ILSVRC2012_val_00017938 138679 {\"cls\": 143, \"cname\": \"pug, pug-dog\"}\n",
      "7000 ILSVRC2012_val_00005886 129133 {\"cls\": 197, \"cname\": \"Pembroke, Pembroke Welsh co\n",
      "8000 ILSVRC2012_val_00022434 210812 {\"cls\": 89, \"cname\": \"toy terrier\"}\n",
      "9000 ILSVRC2012_val_00020606 40498 {\"cls\": 935, \"cname\": \"Windsor tie\"}\n",
      "10000 ILSVRC2012_val_00027716 142984 {\"cls\": 531, \"cname\": \"syringe\"}\n",
      "11000 ILSVRC2012_val_00028913 137064 {\"cls\": 133, \"cname\": \"Leonberg\"}\n",
      "12000 ILSVRC2012_val_00038677 150307 {\"cls\": 374, \"cname\": \"lawn mower, mower\"}\n",
      "13000 ILSVRC2012_val_00036454 211122 {\"cls\": 152, \"cname\": \"Lakeland terrier\"}\n",
      "14000 ILSVRC2012_val_00028930 27622 {\"cls\": 824, \"cname\": \"mortar\"}\n",
      "15000 ILSVRC2012_val_00039095 77448 {\"cls\": 351, \"cname\": \"ocarina, sweet potato\"}\n",
      "16000 ILSVRC2012_val_00046060 46181 {\"cls\": 300, \"cname\": \"bookcase\"}\n",
      "17000 ILSVRC2012_val_00046181 98184 {\"cls\": 279, \"cname\": \"fire engine, fire truck\"}\n",
      "18000 ILSVRC2012_val_00018209 72621 {\"cls\": 875, \"cname\": \"milk can\"}\n",
      "19000 ILSVRC2012_val_00026911 108289 {\"cls\": 116, \"cname\": \"Shih-Tzu\"}\n",
      "20000 ILSVRC2012_val_00019255 152331 {\"cls\": 977, \"cname\": \"maillot, tank suit\"}\n",
      "21000 ILSVRC2012_val_00018830 155477 {\"cls\": 457, \"cname\": \"gar, garfish, garpike, bill\n",
      "22000 ILSVRC2012_val_00027145 233537 {\"cls\": 390, \"cname\": \"indigo bunting, indigo finc\n",
      "23000 ILSVRC2012_val_00037459 232630 {\"cls\": 119, \"cname\": \"Bedlington terrier\"}\n",
      "24000 ILSVRC2012_val_00017185 211759 {\"cls\": 496, \"cname\": \"eft\"}\n",
      "25000 ILSVRC2012_val_00017215 117096 {\"cls\": 480, \"cname\": \"green snake, grass snake\"}\n",
      "26000 ILSVRC2012_val_00009510 312559 {\"cls\": 383, \"cname\": \"cock\"}\n",
      "27000 ILSVRC2012_val_00049520 113181 {\"cls\": 504, \"cname\": \"paintbrush\"}\n",
      "28000 ILSVRC2012_val_00015467 188257 {\"cls\": 721, \"cname\": \"chainlink fence\"}\n",
      "29000 ILSVRC2012_val_00034075 145937 {\"cls\": 84, \"cname\": \"basenji\"}\n",
      "30000 ILSVRC2012_val_00026351 80585 {\"cls\": 233, \"cname\": \"balloon\"}\n",
      "31000 ILSVRC2012_val_00008584 176794 {\"cls\": 788, \"cname\": \"pop bottle, soda bottle\"}\n",
      "32000 ILSVRC2012_val_00032555 123339 {\"cls\": 317, \"cname\": \"wardrobe, closet, press\"}\n",
      "33000 ILSVRC2012_val_00043695 110299 {\"cls\": 37, \"cname\": \"titi, titi monkey\"}\n",
      "34000 ILSVRC2012_val_00018520 123786 {\"cls\": 570, \"cname\": \"reel\"}\n",
      "35000 ILSVRC2012_val_00032442 104377 {\"cls\": 997, \"cname\": \"rubber eraser, rubber, penc\n",
      "36000 ILSVRC2012_val_00036309 217974 {\"cls\": 679, \"cname\": \"patio, terrace\"}\n",
      "37000 ILSVRC2012_val_00023124 156082 {\"cls\": 890, \"cname\": \"cassette\"}\n",
      "38000 ILSVRC2012_val_00001359 27061 {\"cls\": 190, \"cname\": \"lion, king of beasts, Panth\n",
      "39000 ILSVRC2012_val_00014613 149256 {\"cls\": 955, \"cname\": \"goblet\"}\n",
      "40000 ILSVRC2012_val_00040882 175137 {\"cls\": 697, \"cname\": \"lumbermill, sawmill\"}\n",
      "41000 ILSVRC2012_val_00048651 86988 {\"cls\": 732, \"cname\": \"pedestal, plinth, footstall\n",
      "42000 ILSVRC2012_val_00039887 90345 {\"cls\": 518, \"cname\": \"barometer\"}\n",
      "43000 ILSVRC2012_val_00036820 196311 {\"cls\": 272, \"cname\": \"Model T\"}\n",
      "44000 ILSVRC2012_val_00028893 121345 {\"cls\": 768, \"cname\": \"bagel, beigel\"}\n",
      "45000 ILSVRC2012_val_00024503 115775 {\"cls\": 343, \"cname\": \"violin, fiddle\"}\n",
      "46000 ILSVRC2012_val_00018594 130592 {\"cls\": 596, \"cname\": \"pier\"}\n",
      "47000 ILSVRC2012_val_00049590 49941 {\"cls\": 840, \"cname\": \"hamper\"}\n",
      "48000 ILSVRC2012_val_00004364 171723 {\"cls\": 565, \"cname\": \"pinwheel\"}\n",
      "49000 ILSVRC2012_val_00003480 99766 {\"cls\": 124, \"cname\": \"collie\"}\n"
     ]
    }
   ],
   "source": [
    "mode = \"val\"\n",
    "write_shards(\"../imagenet-shards/imagenet_val-%04d.tgz\", jpegs, maxsize=1e11)"
   ]
  },
  {
   "cell_type": "code",
   "execution_count": null,
   "metadata": {},
   "outputs": [],
   "source": []
  }
 ],
 "metadata": {
  "kernelspec": {
   "display_name": "Python 3",
   "language": "python",
   "name": "python3"
  },
  "language_info": {
   "codemirror_mode": {
    "name": "ipython",
    "version": 3
   },
   "file_extension": ".py",
   "mimetype": "text/x-python",
   "name": "python",
   "nbconvert_exporter": "python",
   "pygments_lexer": "ipython3",
   "version": "3.7.3"
  }
 },
 "nbformat": 4,
 "nbformat_minor": 4
}
