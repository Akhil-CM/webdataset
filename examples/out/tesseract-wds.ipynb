{
 "cells": [
  {
   "cell_type": "code",
   "execution_count": 1,
   "id": "f855876f",
   "metadata": {
    "execution": {
     "iopub.execute_input": "2023-12-18T06:00:23.272296Z",
     "iopub.status.busy": "2023-12-18T06:00:23.271971Z",
     "iopub.status.idle": "2023-12-18T06:00:24.712567Z",
     "shell.execute_reply": "2023-12-18T06:00:24.711787Z"
    },
    "papermill": {
     "duration": 1.448807,
     "end_time": "2023-12-18T06:00:24.715784",
     "exception": false,
     "start_time": "2023-12-18T06:00:23.266977",
     "status": "completed"
    },
    "tags": []
   },
   "outputs": [],
   "source": [
    "# imports and helper functions\n",
    "\n",
    "import os\n",
    "import sys\n",
    "import webdataset as wds\n",
    "import braceexpand\n",
    "import tempfile\n",
    "import glob\n",
    "from itertools import islice\n",
    "import random\n",
    "\n",
    "def summarize(sample):\n",
    "    for k, v in sample.items():\n",
    "        print(k, repr(v)[:100])\n",
    "\n",
    "def read_binary(fname):\n",
    "    with open(fname, \"rb\") as stream:\n",
    "        return stream.read()"
   ]
  },
  {
   "cell_type": "markdown",
   "id": "4a74c37b",
   "metadata": {
    "papermill": {
     "duration": 0.004951,
     "end_time": "2023-12-18T06:00:24.727733",
     "exception": false,
     "start_time": "2023-12-18T06:00:24.722782",
     "status": "completed"
    },
    "tags": []
   },
   "source": [
    "# Parallel Processing of Shards: Large Scale OCR\n",
    "\n",
    "This notebook illustrates how to take a large collection of shards consisting of PDFs and process them using `pdftoppm` and `tessearact` into a new dataset consisting of page images and corresponding OCR output.\n",
    "\n",
    "The general approach is to process each shard sequentially and to process multiple shards in parallel. The basic structure of such a job looks like:\n",
    "\n",
    "```Python\n",
    "with WebDataset(srcname) as src:\n",
    "    with TarWriter(dstname) as dst:\n",
    "        for sample in src:\n",
    "            ... do something with sample ...\n",
    "            dst.write(sample)\n",
    "upload(dstname)\n",
    "```"
   ]
  },
  {
   "cell_type": "markdown",
   "id": "ecdb4ac3",
   "metadata": {
    "papermill": {
     "duration": 0.004894,
     "end_time": "2023-12-18T06:00:24.737482",
     "exception": false,
     "start_time": "2023-12-18T06:00:24.732588",
     "status": "completed"
    },
    "tags": []
   },
   "source": [
    "# The Arxiv Dataset of PDFs"
   ]
  },
  {
   "cell_type": "code",
   "execution_count": 2,
   "id": "a35069f7",
   "metadata": {
    "execution": {
     "iopub.execute_input": "2023-12-18T06:00:24.748650Z",
     "iopub.status.busy": "2023-12-18T06:00:24.748339Z",
     "iopub.status.idle": "2023-12-18T06:00:30.562423Z",
     "shell.execute_reply": "2023-12-18T06:00:30.560538Z"
    },
    "papermill": {
     "duration": 5.824066,
     "end_time": "2023-12-18T06:00:30.566338",
     "exception": false,
     "start_time": "2023-12-18T06:00:24.742272",
     "status": "completed"
    },
    "tags": []
   },
   "outputs": [
    {
     "name": "stdout",
     "output_type": "stream",
     "text": [
      "1808.00020v6.pdf\r\n"
     ]
    },
    {
     "name": "stdout",
     "output_type": "stream",
     "text": [
      "1511.05082v1.pdf\r\n",
      "1610.08000v1.pdf\r\n",
      "1506.03736v2.pdf\r\n",
      "1909.03824v1.pdf\r\n"
     ]
    },
    {
     "name": "stdout",
     "output_type": "stream",
     "text": [
      "tar: stdout: write error\r\n"
     ]
    }
   ],
   "source": [
    "# The dataset is tar files containing PDFs, each using the Arxiv naming convention.\n",
    "\n",
    "!gsutil cat gs://webdataset/testdata/arxiv-pdfs-{000000..000001}.tar | tar tf - | sed 5q"
   ]
  },
  {
   "cell_type": "code",
   "execution_count": 3,
   "id": "fb4c8cae",
   "metadata": {
    "execution": {
     "iopub.execute_input": "2023-12-18T06:00:30.582011Z",
     "iopub.status.busy": "2023-12-18T06:00:30.581405Z",
     "iopub.status.idle": "2023-12-18T06:00:33.123601Z",
     "shell.execute_reply": "2023-12-18T06:00:33.122881Z"
    },
    "papermill": {
     "duration": 2.55416,
     "end_time": "2023-12-18T06:00:33.127119",
     "exception": false,
     "start_time": "2023-12-18T06:00:30.572959",
     "status": "completed"
    },
    "tags": []
   },
   "outputs": [
    {
     "name": "stderr",
     "output_type": "stream",
     "text": [
      "GOPEN gs://webdataset/testdata/arxiv-pdfs-000000.tar {}\n"
     ]
    },
    {
     "name": "stdout",
     "output_type": "stream",
     "text": [
      "__key__ '1808_00020v6'\n",
      "__url__ 'gs://webdataset/testdata/arxiv-pdfs-000000.tar'\n",
      "pdf b'%PDF-1.5\\n%\\x8f\\n18 0 obj\\n<< /Filter /FlateDecode /Length 5428 >>\\nstream\\nx\\xda\\xad[]\\xb3\\xe3\\xb\n"
     ]
    }
   ],
   "source": [
    "# Arxiv naming convenitions are incompatible with WebDataset, but we can add\n",
    "# a file renaming function to the WebDataset to fix this.\n",
    "\n",
    "def arxiv_rename(name):\n",
    "    return name.replace(\".pdf\", \"\").replace(\".\", \"_\") + \".pdf\"\n",
    "\n",
    "# For this example, we just use two shards, but usually, you would have hundreds\n",
    "# or thousands of shards.\n",
    "\n",
    "dataset = \"gs://webdataset/testdata/arxiv-pdfs-{000000..000001}.tar\"\n",
    "\n",
    "# Let's open the dataset and read the first sample.\n",
    "\n",
    "shardurls = list(braceexpand.braceexpand(dataset))\n",
    "ds = wds.WebDataset(shardurls, rename_files=arxiv_rename)\n",
    "sample = next(iter(ds))\n",
    "summarize(sample)"
   ]
  },
  {
   "cell_type": "markdown",
   "id": "84fc4cfa",
   "metadata": {
    "papermill": {
     "duration": 0.006053,
     "end_time": "2023-12-18T06:00:33.139763",
     "exception": false,
     "start_time": "2023-12-18T06:00:33.133710",
     "status": "completed"
    },
    "tags": []
   },
   "source": [
    "# Running Tesseract on a Single PDF"
   ]
  },
  {
   "cell_type": "code",
   "execution_count": 4,
   "id": "3e814fd0",
   "metadata": {
    "execution": {
     "iopub.execute_input": "2023-12-18T06:00:33.153823Z",
     "iopub.status.busy": "2023-12-18T06:00:33.153544Z",
     "iopub.status.idle": "2023-12-18T06:00:33.162049Z",
     "shell.execute_reply": "2023-12-18T06:00:33.160966Z"
    },
    "papermill": {
     "duration": 0.019328,
     "end_time": "2023-12-18T06:00:33.165349",
     "exception": false,
     "start_time": "2023-12-18T06:00:33.146021",
     "status": "completed"
    },
    "tags": []
   },
   "outputs": [],
   "source": [
    "def process_sample(sample, maxpages=9999, shuffle=True):\n",
    "    \"\"\"Process a sample from the Arxiv dataset.\n",
    "\n",
    "    This function converts the PDF file to a sequence of JPEG images\n",
    "    and then invokes Tesseract to recognize the text in the images.\n",
    "    It returns a sequence of samples, one per page, each containing\n",
    "    the JPEG image and the hOCR output from Tesseract.\n",
    "    \"\"\"\n",
    "\n",
    "    # We work in a temporary directory; most operations are command line tools\n",
    "\n",
    "    with tempfile.TemporaryDirectory() as dirname:\n",
    "\n",
    "        # Write the PDF file to disk and convert it to a sequence of JPEGs using pdftoppm\n",
    "        pdfpath = dirname + \"/sample.pdf\"\n",
    "        with open(pdfpath, \"wb\") as stream:\n",
    "            stream.write(sample[\"pdf\"])\n",
    "        assert os.system(f\"(cd {dirname} && pdftoppm -forcenum -jpeg -r 300 -l 9999 sample.pdf page)\") == 0\n",
    "        \n",
    "        # Next, we are going to iterate over the pages, convert them to text using tesseract,\n",
    "        pages = sorted(glob.glob(dirname + \"/page-*.jpg\"))\n",
    "        if shuffle:\n",
    "            random.shuffle(pages)\n",
    "\n",
    "        for page in islice(pages, maxpages):\n",
    "            page_without_suffix = page[:-4]\n",
    "            base = os.path.basename(page_without_suffix)\n",
    "\n",
    "            # Invoke Tesseract to convert the page image to hOCR.\n",
    "            os.system(f\"tesseract {page} {page_without_suffix} hocr\")\n",
    "\n",
    "            # Construct the output sample.\n",
    "            nsample = {\n",
    "                \"__key__\": sample[\"__key__\"] + f\"/{base}\",\n",
    "                \"jpg\": read_binary(page_without_suffix + \".jpg\"),\n",
    "                \"hocr\": read_binary(page_without_suffix + \".hocr\"),\n",
    "            }\n",
    "\n",
    "            # This function returns an iterator over the recognized pages.\n",
    "            yield nsample"
   ]
  },
  {
   "cell_type": "code",
   "execution_count": 5,
   "id": "24c2a0d0",
   "metadata": {
    "execution": {
     "iopub.execute_input": "2023-12-18T06:00:33.179757Z",
     "iopub.status.busy": "2023-12-18T06:00:33.179277Z",
     "iopub.status.idle": "2023-12-18T06:00:43.783996Z",
     "shell.execute_reply": "2023-12-18T06:00:43.783126Z"
    },
    "papermill": {
     "duration": 10.615477,
     "end_time": "2023-12-18T06:00:43.787045",
     "exception": false,
     "start_time": "2023-12-18T06:00:33.171568",
     "status": "completed"
    },
    "tags": []
   },
   "outputs": [
    {
     "name": "stderr",
     "output_type": "stream",
     "text": [
      "Tesseract Open Source OCR Engine v4.1.1 with Leptonica\n"
     ]
    },
    {
     "name": "stdout",
     "output_type": "stream",
     "text": [
      "__key__ '1808_00020v6/page-23'\n",
      "jpg b'\\xff\\xd8\\xff\\xe0\\x00\\x10JFIF\\x00\\x01\\x01\\x01\\x01,\\x01,\\x00\\x00\\xff\\xdb\\x00C\\x00\\x08\\x06\\x06\\x07\\x0\n",
      "hocr b'<?xml version=\"1.0\" encoding=\"UTF-8\"?>\\n<!DOCTYPE html PUBLIC \"-//W3C//DTD XHTML 1.0 Transitional/\n"
     ]
    }
   ],
   "source": [
    "output = next(process_sample(sample))\n",
    "summarize(output)"
   ]
  },
  {
   "cell_type": "markdown",
   "id": "86d0ca15",
   "metadata": {
    "papermill": {
     "duration": 0.006706,
     "end_time": "2023-12-18T06:00:43.800998",
     "exception": false,
     "start_time": "2023-12-18T06:00:43.794292",
     "status": "completed"
    },
    "tags": []
   },
   "source": [
    "# Processing a Shard of PDF Files"
   ]
  },
  {
   "cell_type": "code",
   "execution_count": 6,
   "id": "473fa3a8",
   "metadata": {
    "execution": {
     "iopub.execute_input": "2023-12-18T06:00:43.815557Z",
     "iopub.status.busy": "2023-12-18T06:00:43.815218Z",
     "iopub.status.idle": "2023-12-18T06:00:43.820323Z",
     "shell.execute_reply": "2023-12-18T06:00:43.819746Z"
    },
    "papermill": {
     "duration": 0.016307,
     "end_time": "2023-12-18T06:00:43.823838",
     "exception": false,
     "start_time": "2023-12-18T06:00:43.807531",
     "status": "completed"
    },
    "tags": []
   },
   "outputs": [],
   "source": [
    "def process_shard(src, dst, maxpdfs=999999, maxpages=9999):\n",
    "    \"\"\"Process a shard of the Arxiv dataset.\n",
    "\n",
    "    This function reads a shard of the Arxiv dataset, processes each sample\n",
    "    using the process_sample function, and writes the page images and corresponding\n",
    "    hOCR output to a new shard, one sample per page.\n",
    "\n",
    "    The maxpdfs and maxpages parameters can be used to limit the number of\n",
    "    samples and pages processed. This is useful for testing, as well as limit\n",
    "    the number of pages selected from very long PDF documents.\n",
    "    \"\"\"\n",
    "    with wds.TarWriter(dst) as sink:\n",
    "        for sample in islice(wds.WebDataset(src, rename_files=arxiv_rename), maxpdfs):\n",
    "            print(sample[\"__key__\"], sample.keys())\n",
    "            for nsample in process_sample(sample, maxpages=maxpages):\n",
    "                print(\"    \", nsample[\"__key__\"])\n",
    "                sink.write(nsample)"
   ]
  },
  {
   "cell_type": "code",
   "execution_count": 7,
   "id": "df986d72",
   "metadata": {
    "execution": {
     "iopub.execute_input": "2023-12-18T06:00:43.838237Z",
     "iopub.status.busy": "2023-12-18T06:00:43.837952Z",
     "iopub.status.idle": "2023-12-18T06:01:08.402354Z",
     "shell.execute_reply": "2023-12-18T06:01:08.400630Z"
    },
    "papermill": {
     "duration": 24.575653,
     "end_time": "2023-12-18T06:01:08.406043",
     "exception": false,
     "start_time": "2023-12-18T06:00:43.830390",
     "status": "completed"
    },
    "tags": []
   },
   "outputs": [
    {
     "name": "stderr",
     "output_type": "stream",
     "text": [
      "GOPEN output.tar {}\n",
      "GOPEN gs://webdataset/testdata/arxiv-pdfs-000000.tar {}\n"
     ]
    },
    {
     "name": "stdout",
     "output_type": "stream",
     "text": [
      "1808_00020v6 dict_keys(['__key__', '__url__', 'pdf'])\n"
     ]
    },
    {
     "name": "stderr",
     "output_type": "stream",
     "text": [
      "Tesseract Open Source OCR Engine v4.1.1 with Leptonica\n"
     ]
    },
    {
     "name": "stdout",
     "output_type": "stream",
     "text": [
      "     1808_00020v6/page-07\n"
     ]
    },
    {
     "name": "stderr",
     "output_type": "stream",
     "text": [
      "Tesseract Open Source OCR Engine v4.1.1 with Leptonica\n"
     ]
    },
    {
     "name": "stderr",
     "output_type": "stream",
     "text": [
      "Detected 29 diacritics\n"
     ]
    },
    {
     "name": "stdout",
     "output_type": "stream",
     "text": [
      "     1808_00020v6/page-09\n",
      "1511_05082v1 dict_keys(['__key__', '__url__', 'pdf'])\n"
     ]
    },
    {
     "name": "stderr",
     "output_type": "stream",
     "text": [
      "Tesseract Open Source OCR Engine v4.1.1 with Leptonica\n"
     ]
    },
    {
     "name": "stdout",
     "output_type": "stream",
     "text": [
      "     1511_05082v1/page-11\n"
     ]
    },
    {
     "name": "stderr",
     "output_type": "stream",
     "text": [
      "Tesseract Open Source OCR Engine v4.1.1 with Leptonica\n"
     ]
    },
    {
     "name": "stdout",
     "output_type": "stream",
     "text": [
      "     1511_05082v1/page-16\n"
     ]
    }
   ],
   "source": [
    "!rm -f output.tar\n",
    "process_shard(shardurls[0], \"output.tar\", maxpdfs=2, maxpages=2)"
   ]
  },
  {
   "cell_type": "code",
   "execution_count": 8,
   "id": "cd183edd",
   "metadata": {
    "execution": {
     "iopub.execute_input": "2023-12-18T06:01:08.424986Z",
     "iopub.status.busy": "2023-12-18T06:01:08.424431Z",
     "iopub.status.idle": "2023-12-18T06:01:08.555727Z",
     "shell.execute_reply": "2023-12-18T06:01:08.553768Z"
    },
    "papermill": {
     "duration": 0.144981,
     "end_time": "2023-12-18T06:01:08.559511",
     "exception": false,
     "start_time": "2023-12-18T06:01:08.414530",
     "status": "completed"
    },
    "tags": []
   },
   "outputs": [
    {
     "name": "stdout",
     "output_type": "stream",
     "text": [
      "-r--r--r-- bigdata/bigdata 93628 2023-12-17 22:00 1808_00020v6/page-07.hocr\r\n",
      "-r--r--r-- bigdata/bigdata 1094432 2023-12-17 22:00 1808_00020v6/page-07.jpg\r\n",
      "-r--r--r-- bigdata/bigdata   37251 2023-12-17 22:01 1808_00020v6/page-09.hocr\r\n",
      "-r--r--r-- bigdata/bigdata  440674 2023-12-17 22:01 1808_00020v6/page-09.jpg\r\n",
      "-r--r--r-- bigdata/bigdata   31699 2023-12-17 22:01 1511_05082v1/page-11.hocr\r\n",
      "-r--r--r-- bigdata/bigdata  428418 2023-12-17 22:01 1511_05082v1/page-11.jpg\r\n",
      "-r--r--r-- bigdata/bigdata   64608 2023-12-17 22:01 1511_05082v1/page-16.hocr\r\n",
      "-r--r--r-- bigdata/bigdata  698414 2023-12-17 22:01 1511_05082v1/page-16.jpg\r\n"
     ]
    }
   ],
   "source": [
    "!tar tvf output.tar"
   ]
  },
  {
   "cell_type": "markdown",
   "id": "209db67b",
   "metadata": {
    "papermill": {
     "duration": 0.008496,
     "end_time": "2023-12-18T06:01:08.577000",
     "exception": false,
     "start_time": "2023-12-18T06:01:08.568504",
     "status": "completed"
    },
    "tags": []
   },
   "source": [
    "# Parallelizing Processing with Ray\n",
    "\n",
    "This illustrates how to use Ray to process many shards in parallel.\n",
    "\n",
    "You don't need to use Ray for this, you can also invoke `process_shard` in parallel using a job queueing system or using some other distributed computing framework.\n",
    "\n",
    "Generally, it is easiest to process each shard sequentially, and to process multiple shards in parallel. However, you could use additional parallelization to perform processing of the samples in parallel."
   ]
  },
  {
   "cell_type": "code",
   "execution_count": 9,
   "id": "c94f73b0",
   "metadata": {
    "execution": {
     "iopub.execute_input": "2023-12-18T06:01:08.596773Z",
     "iopub.status.busy": "2023-12-18T06:01:08.596161Z",
     "iopub.status.idle": "2023-12-18T06:01:38.521367Z",
     "shell.execute_reply": "2023-12-18T06:01:38.520225Z"
    },
    "papermill": {
     "duration": 29.939083,
     "end_time": "2023-12-18T06:01:38.524433",
     "exception": false,
     "start_time": "2023-12-18T06:01:08.585350",
     "status": "completed"
    },
    "tags": []
   },
   "outputs": [
    {
     "name": "stderr",
     "output_type": "stream",
     "text": [
      "2023-12-17 22:01:11,147\tINFO worker.py:1664 -- Started a local Ray instance. View the dashboard at \u001b[1m\u001b[32m127.0.0.1:8266 \u001b[39m\u001b[22m\n"
     ]
    },
    {
     "name": "stderr",
     "output_type": "stream",
     "text": [
      "\u001b[36m(process_shard_parallel pid=680148)\u001b[0m GOPEN /tmp/tmplw9qcz2v {}\n",
      "\u001b[36m(process_shard_parallel pid=680148)\u001b[0m GOPEN gs://webdataset/testdata/arxiv-pdfs-000001.tar {}\n"
     ]
    },
    {
     "name": "stdout",
     "output_type": "stream",
     "text": [
      "\u001b[36m(process_shard_parallel pid=680148)\u001b[0m 1402_1973v2 dict_keys(['__key__', '__url__', 'pdf'])\n"
     ]
    },
    {
     "name": "stderr",
     "output_type": "stream",
     "text": [
      "\u001b[36m(process_shard_parallel pid=680148)\u001b[0m Tesseract Open Source OCR Engine v4.1.1 with Leptonica\n"
     ]
    },
    {
     "name": "stdout",
     "output_type": "stream",
     "text": [
      "\u001b[36m(process_shard_parallel pid=680148)\u001b[0m      1402_1973v2/page-19\n"
     ]
    },
    {
     "name": "stderr",
     "output_type": "stream",
     "text": [
      "\u001b[36m(process_shard_parallel pid=680148)\u001b[0m Tesseract Open Source OCR Engine v4.1.1 with Leptonica\n",
      "\u001b[36m(process_shard_parallel pid=680149)\u001b[0m GOPEN gs://webdataset/testdata/arxiv-pdfs-000000.tar {}\u001b[32m [repeated 2x across cluster] (Ray deduplicates logs by default. Set RAY_DEDUP_LOGS=0 to disable log deduplication, or see https://docs.ray.io/en/master/ray-observability/ray-logging.html#log-deduplication for more options.)\u001b[0m\n"
     ]
    },
    {
     "name": "stdout",
     "output_type": "stream",
     "text": [
      "\u001b[36m(process_shard_parallel pid=680148)\u001b[0m      1402_1973v2/page-12\n",
      "\u001b[36m(process_shard_parallel pid=680148)\u001b[0m 1612_01474v3 dict_keys(['__key__', '__url__', 'pdf'])\u001b[32m [repeated 2x across cluster]\u001b[0m\n"
     ]
    },
    {
     "name": "stderr",
     "output_type": "stream",
     "text": [
      "\u001b[36m(process_shard_parallel pid=680149)\u001b[0m Tesseract Open Source OCR Engine v4.1.1 with Leptonica\n",
      "\u001b[36m(process_shard_parallel pid=680148)\u001b[0m Tesseract Open Source OCR Engine v4.1.1 with Leptonica\n"
     ]
    },
    {
     "name": "stdout",
     "output_type": "stream",
     "text": [
      "\u001b[36m(process_shard_parallel pid=680149)\u001b[0m      1808_00020v6/page-04\n"
     ]
    },
    {
     "name": "stdout",
     "output_type": "stream",
     "text": [
      "\u001b[36m(process_shard_parallel pid=680149)\u001b[0m      1808_00020v6/page-15\n",
      "\u001b[36m(process_shard_parallel pid=680149)\u001b[0m 1511_05082v1 dict_keys(['__key__', '__url__', 'pdf'])\n"
     ]
    },
    {
     "name": "stderr",
     "output_type": "stream",
     "text": [
      "\u001b[36m(process_shard_parallel pid=680148)\u001b[0m Tesseract Open Source OCR Engine v4.1.1 with Leptonica\u001b[32m [repeated 2x across cluster]\u001b[0m\n"
     ]
    },
    {
     "name": "stdout",
     "output_type": "stream",
     "text": [
      "\u001b[36m(process_shard_parallel pid=680148)\u001b[0m gsutil cp /tmp/tmplw9qcz2v gs://somebucket/arxiv-pdfs-000001.tar\n"
     ]
    },
    {
     "data": {
      "text/plain": [
       "[None, None]"
      ]
     },
     "execution_count": 9,
     "metadata": {},
     "output_type": "execute_result"
    }
   ],
   "source": [
    "maxpdfs = 2  # for testing, we just use two PDFs per shard\n",
    "maxpages = 2  # for testing, we just use two pages per PDF\n",
    "upload_cmd = \"echo gsutil cp {src} {dst}\"  # for testing, we don't actually upload the completed shards\n",
    "\n",
    "import ray\n",
    "if not ray.is_initialized():\n",
    "    ray.init()\n",
    "\n",
    "@ray.remote(num_cpus=4)\n",
    "def process_shard_parallel(src, dstbucket, maxpdfs=999999, maxpages=9999):\n",
    "    \"\"\"Process a shard of the Arxiv dataset and upload the output shard to a bucket.\n",
    "\n",
    "    This function reads a shard of the Arxiv dataset, processes each sample\n",
    "    using the process_sample function, and writes the page images and corresponding \n",
    "    hOCR output to a new shard, one sample per page. The output shard is then\n",
    "    uploaded to the specified bucket using `upload_cmd`.\n",
    "    \"\"\"\n",
    "    dst = dstbucket + \"/\" + os.path.basename(src)\n",
    "    with tempfile.NamedTemporaryFile() as tmp:\n",
    "        process_shard(src, tmp.name, maxpdfs=maxpdfs, maxpages=maxpages)\n",
    "        assert os.system(upload_cmd.format(src=tmp.name, dst=dst)) == 0\n",
    "\n",
    "!rm -f output.tar\n",
    "ray.get([process_shard_parallel.remote(src, \"gs://somebucket\", maxpdfs=maxpdfs, maxpages=maxpages) for src in shardurls])\n"
   ]
  }
 ],
 "metadata": {
  "kernelspec": {
   "display_name": "venv",
   "language": "python",
   "name": "python3"
  },
  "language_info": {
   "codemirror_mode": {
    "name": "ipython",
    "version": 3
   },
   "file_extension": ".py",
   "mimetype": "text/x-python",
   "name": "python",
   "nbconvert_exporter": "python",
   "pygments_lexer": "ipython3",
   "version": "3.10.12"
  },
  "papermill": {
   "default_parameters": {},
   "duration": 81.280068,
   "end_time": "2023-12-18T06:01:43.658623",
   "environment_variables": {},
   "exception": null,
   "input_path": "tesseract-wds.ipynb",
   "output_path": "out/_tesseract-wds.ipynb",
   "parameters": {},
   "start_time": "2023-12-18T06:00:22.378555",
   "version": "2.5.0"
  }
 },
 "nbformat": 4,
 "nbformat_minor": 5
}